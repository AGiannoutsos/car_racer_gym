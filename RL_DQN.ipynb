{
  "nbformat": 4,
  "nbformat_minor": 0,
  "metadata": {
    "kernelspec": {
      "display_name": "Python 3",
      "language": "python",
      "name": "python3"
    },
    "language_info": {
      "codemirror_mode": {
        "name": "ipython",
        "version": 3
      },
      "file_extension": ".py",
      "mimetype": "text/x-python",
      "name": "python",
      "nbconvert_exporter": "python",
      "pygments_lexer": "ipython3",
      "version": "3.6.8"
    },
    "colab": {
      "name": "RL_DQN.ipynb",
      "provenance": [],
      "collapsed_sections": [
        "vZq4VjDqVrms"
      ],
      "toc_visible": true
    },
    "accelerator": "GPU",
    "widgets": {
      "application/vnd.jupyter.widget-state+json": {
        "df95f5cc17fa4751b5caa87666699042": {
          "model_module": "@jupyter-widgets/controls",
          "model_name": "VBoxModel",
          "state": {
            "_view_name": "VBoxView",
            "_dom_classes": [],
            "_model_name": "VBoxModel",
            "_view_module": "@jupyter-widgets/controls",
            "_model_module_version": "1.5.0",
            "_view_count": null,
            "_view_module_version": "1.5.0",
            "box_style": "",
            "layout": "IPY_MODEL_2a76091d30d54d62b502a8546fd021cf",
            "_model_module": "@jupyter-widgets/controls",
            "children": [
              "IPY_MODEL_2546dfc000604f9eba5cbbb416c857bc",
              "IPY_MODEL_8432549e82d74ab8a8bf9a59e6b2b5d2"
            ]
          }
        },
        "2a76091d30d54d62b502a8546fd021cf": {
          "model_module": "@jupyter-widgets/base",
          "model_name": "LayoutModel",
          "state": {
            "_view_name": "LayoutView",
            "grid_template_rows": null,
            "right": null,
            "justify_content": null,
            "_view_module": "@jupyter-widgets/base",
            "overflow": null,
            "_model_module_version": "1.2.0",
            "_view_count": null,
            "flex_flow": null,
            "width": null,
            "min_width": null,
            "border": null,
            "align_items": null,
            "bottom": null,
            "_model_module": "@jupyter-widgets/base",
            "top": null,
            "grid_column": null,
            "overflow_y": null,
            "overflow_x": null,
            "grid_auto_flow": null,
            "grid_area": null,
            "grid_template_columns": null,
            "flex": null,
            "_model_name": "LayoutModel",
            "justify_items": null,
            "grid_row": null,
            "max_height": null,
            "align_content": null,
            "visibility": null,
            "align_self": null,
            "height": null,
            "min_height": null,
            "padding": null,
            "grid_auto_rows": null,
            "grid_gap": null,
            "max_width": null,
            "order": null,
            "_view_module_version": "1.2.0",
            "grid_template_areas": null,
            "object_position": null,
            "object_fit": null,
            "grid_auto_columns": null,
            "margin": null,
            "display": null,
            "left": null
          }
        },
        "2546dfc000604f9eba5cbbb416c857bc": {
          "model_module": "@jupyter-widgets/controls",
          "model_name": "LabelModel",
          "state": {
            "_view_name": "LabelView",
            "style": "IPY_MODEL_430b24b2394c4d2f9ba65961d7a40b1a",
            "_dom_classes": [],
            "description": "",
            "_model_name": "LabelModel",
            "placeholder": "​",
            "_view_module": "@jupyter-widgets/controls",
            "_model_module_version": "1.5.0",
            "value": " 16.86MB of 16.86MB uploaded (0.00MB deduped)\r",
            "_view_count": null,
            "_view_module_version": "1.5.0",
            "description_tooltip": null,
            "_model_module": "@jupyter-widgets/controls",
            "layout": "IPY_MODEL_96028ac6c813494c9305b0932761e730"
          }
        },
        "8432549e82d74ab8a8bf9a59e6b2b5d2": {
          "model_module": "@jupyter-widgets/controls",
          "model_name": "FloatProgressModel",
          "state": {
            "_view_name": "ProgressView",
            "style": "IPY_MODEL_e1f9d610266243698ef25bd0abb27590",
            "_dom_classes": [],
            "description": "",
            "_model_name": "FloatProgressModel",
            "bar_style": "",
            "max": 1,
            "_view_module": "@jupyter-widgets/controls",
            "_model_module_version": "1.5.0",
            "value": 1,
            "_view_count": null,
            "_view_module_version": "1.5.0",
            "orientation": "horizontal",
            "min": 0,
            "description_tooltip": null,
            "_model_module": "@jupyter-widgets/controls",
            "layout": "IPY_MODEL_881df27d24e0415a9e39a12274a15c60"
          }
        },
        "430b24b2394c4d2f9ba65961d7a40b1a": {
          "model_module": "@jupyter-widgets/controls",
          "model_name": "DescriptionStyleModel",
          "state": {
            "_view_name": "StyleView",
            "_model_name": "DescriptionStyleModel",
            "description_width": "",
            "_view_module": "@jupyter-widgets/base",
            "_model_module_version": "1.5.0",
            "_view_count": null,
            "_view_module_version": "1.2.0",
            "_model_module": "@jupyter-widgets/controls"
          }
        },
        "96028ac6c813494c9305b0932761e730": {
          "model_module": "@jupyter-widgets/base",
          "model_name": "LayoutModel",
          "state": {
            "_view_name": "LayoutView",
            "grid_template_rows": null,
            "right": null,
            "justify_content": null,
            "_view_module": "@jupyter-widgets/base",
            "overflow": null,
            "_model_module_version": "1.2.0",
            "_view_count": null,
            "flex_flow": null,
            "width": null,
            "min_width": null,
            "border": null,
            "align_items": null,
            "bottom": null,
            "_model_module": "@jupyter-widgets/base",
            "top": null,
            "grid_column": null,
            "overflow_y": null,
            "overflow_x": null,
            "grid_auto_flow": null,
            "grid_area": null,
            "grid_template_columns": null,
            "flex": null,
            "_model_name": "LayoutModel",
            "justify_items": null,
            "grid_row": null,
            "max_height": null,
            "align_content": null,
            "visibility": null,
            "align_self": null,
            "height": null,
            "min_height": null,
            "padding": null,
            "grid_auto_rows": null,
            "grid_gap": null,
            "max_width": null,
            "order": null,
            "_view_module_version": "1.2.0",
            "grid_template_areas": null,
            "object_position": null,
            "object_fit": null,
            "grid_auto_columns": null,
            "margin": null,
            "display": null,
            "left": null
          }
        },
        "e1f9d610266243698ef25bd0abb27590": {
          "model_module": "@jupyter-widgets/controls",
          "model_name": "ProgressStyleModel",
          "state": {
            "_view_name": "StyleView",
            "_model_name": "ProgressStyleModel",
            "description_width": "",
            "_view_module": "@jupyter-widgets/base",
            "_model_module_version": "1.5.0",
            "_view_count": null,
            "_view_module_version": "1.2.0",
            "bar_color": null,
            "_model_module": "@jupyter-widgets/controls"
          }
        },
        "881df27d24e0415a9e39a12274a15c60": {
          "model_module": "@jupyter-widgets/base",
          "model_name": "LayoutModel",
          "state": {
            "_view_name": "LayoutView",
            "grid_template_rows": null,
            "right": null,
            "justify_content": null,
            "_view_module": "@jupyter-widgets/base",
            "overflow": null,
            "_model_module_version": "1.2.0",
            "_view_count": null,
            "flex_flow": null,
            "width": null,
            "min_width": null,
            "border": null,
            "align_items": null,
            "bottom": null,
            "_model_module": "@jupyter-widgets/base",
            "top": null,
            "grid_column": null,
            "overflow_y": null,
            "overflow_x": null,
            "grid_auto_flow": null,
            "grid_area": null,
            "grid_template_columns": null,
            "flex": null,
            "_model_name": "LayoutModel",
            "justify_items": null,
            "grid_row": null,
            "max_height": null,
            "align_content": null,
            "visibility": null,
            "align_self": null,
            "height": null,
            "min_height": null,
            "padding": null,
            "grid_auto_rows": null,
            "grid_gap": null,
            "max_width": null,
            "order": null,
            "_view_module_version": "1.2.0",
            "grid_template_areas": null,
            "object_position": null,
            "object_fit": null,
            "grid_auto_columns": null,
            "margin": null,
            "display": null,
            "left": null
          }
        }
      }
    }
  },
  "cells": [
    {
      "cell_type": "markdown",
      "metadata": {
        "id": "RBqYjRFyngvS"
      },
      "source": [
        "## Install libraries"
      ]
    },
    {
      "cell_type": "code",
      "metadata": {
        "id": "gXLEWcW9_mGv"
      },
      "source": [
        "%%capture\n",
        "!sudo apt update && sudo apt install python-opengl\n",
        "!sudo apt update && sudo apt install xvfb\n",
        "!pip install gym-notebook-wrapper stable-baselines[mpi] box2d box2d-kengz pyvirtualdisplay pyglet\n",
        "# !pip install gym\n",
        "!pip install wandb\n",
        "!pip install pyvirtualdisplay -qq\n",
        "!pip install folium==0.2.1\n",
        "!apt-get install -y xvfb python-opengl ffmpeg -qq"
      ],
      "execution_count": 1,
      "outputs": []
    },
    {
      "cell_type": "code",
      "metadata": {
        "id": "r5BmHLRuAXyL"
      },
      "source": [
        "%%capture\n",
        "!git clone https://github.com/openai/gym.git\n",
        "%cd gym\n",
        "!pip install -e .\n",
        "!pip install stable-baselines[mpi]\n",
        "!pip install stable-baselines3[extra]"
      ],
      "execution_count": 2,
      "outputs": []
    },
    {
      "cell_type": "markdown",
      "metadata": {
        "id": "ddE_fR4j_-jR"
      },
      "source": [
        "## Import useful libraries"
      ]
    },
    {
      "cell_type": "code",
      "metadata": {
        "id": "RtC2hX1EcRXE"
      },
      "source": [
        "import math\n",
        "import random\n",
        "import numpy as np\n",
        "import matplotlib\n",
        "import matplotlib.pyplot as plt\n",
        "from collections import namedtuple\n",
        "from itertools import count\n",
        "from PIL import Image\n",
        "import torch\n",
        "import gnwrapper\n",
        "import gym\n",
        "from gym import logger as gymlogger\n",
        "from gym.wrappers import Monitor\n",
        "gymlogger.set_level(30)\n",
        "import glob\n",
        "import io\n",
        "import os\n",
        "import cv2\n",
        "import base64\n",
        "from collections import deque\n",
        "from datetime import datetime\n",
        "from IPython.display import HTML\n",
        "from IPython import display as ipythondisplay\n",
        "from pyvirtualdisplay import Display\n",
        "import wandb\n",
        "import time\n",
        "\n",
        "is_ipython = 'inline' in matplotlib.get_backend()\n",
        "if is_ipython:\n",
        "    from IPython import display\n",
        "\n",
        "# if gpu is to be used\n",
        "device = torch.device(\"cuda\" if torch.cuda.is_available() else \"cpu\")"
      ],
      "execution_count": 3,
      "outputs": []
    },
    {
      "cell_type": "markdown",
      "metadata": {
        "id": "vZq4VjDqVrms"
      },
      "source": [
        "## Get a modified vsersion of Car Racing from github official site "
      ]
    },
    {
      "cell_type": "code",
      "metadata": {
        "id": "nRplH8vdVpw0",
        "colab": {
          "base_uri": "https://localhost:8080/"
        },
        "outputId": "5137e612-6a01-43fc-d2dd-ee963ddd0d2d"
      },
      "source": [
        "!git clone https://github.com/AGiannoutsos/car_racer_gym.git\n",
        "%cd car_racer_gym\n",
        "\n",
        "from car_racing import CarRacingDiscrete\n",
        "\n"
      ],
      "execution_count": 4,
      "outputs": [
        {
          "output_type": "stream",
          "text": [
            "Cloning into 'car_racer_gym'...\n",
            "remote: Enumerating objects: 24, done.\u001b[K\n",
            "remote: Counting objects:   4% (1/24)\u001b[K\rremote: Counting objects:   8% (2/24)\u001b[K\rremote: Counting objects:  12% (3/24)\u001b[K\rremote: Counting objects:  16% (4/24)\u001b[K\rremote: Counting objects:  20% (5/24)\u001b[K\rremote: Counting objects:  25% (6/24)\u001b[K\rremote: Counting objects:  29% (7/24)\u001b[K\rremote: Counting objects:  33% (8/24)\u001b[K\rremote: Counting objects:  37% (9/24)\u001b[K\rremote: Counting objects:  41% (10/24)\u001b[K\rremote: Counting objects:  45% (11/24)\u001b[K\rremote: Counting objects:  50% (12/24)\u001b[K\rremote: Counting objects:  54% (13/24)\u001b[K\rremote: Counting objects:  58% (14/24)\u001b[K\rremote: Counting objects:  62% (15/24)\u001b[K\rremote: Counting objects:  66% (16/24)\u001b[K\rremote: Counting objects:  70% (17/24)\u001b[K\rremote: Counting objects:  75% (18/24)\u001b[K\rremote: Counting objects:  79% (19/24)\u001b[K\rremote: Counting objects:  83% (20/24)\u001b[K\rremote: Counting objects:  87% (21/24)\u001b[K\rremote: Counting objects:  91% (22/24)\u001b[K\rremote: Counting objects:  95% (23/24)\u001b[K\rremote: Counting objects: 100% (24/24)\u001b[K\rremote: Counting objects: 100% (24/24), done.\u001b[K\n",
            "remote: Compressing objects: 100% (24/24), done.\u001b[K\n",
            "remote: Total 24 (delta 6), reused 0 (delta 0), pack-reused 0\u001b[K\n",
            "Unpacking objects: 100% (24/24), done.\n",
            "/content/gym/car_racer_gym\n"
          ],
          "name": "stdout"
        }
      ]
    },
    {
      "cell_type": "markdown",
      "metadata": {
        "id": "c61fq6FMVv0A"
      },
      "source": [
        "## Quick example with CarRacing"
      ]
    },
    {
      "cell_type": "code",
      "metadata": {
        "colab": {
          "base_uri": "https://localhost:8080/",
          "height": 303
        },
        "id": "-3RPjFbySdb6",
        "outputId": "9bc12d19-be02-48db-b4fc-d2089354075a"
      },
      "source": [
        "# from gym.envs.box2d import CarRacing\n",
        "env = gnwrapper.Animation(CarRacingDiscrete())\n",
        "env = CarRacingDiscrete()\n",
        "\n",
        "env.reset()\n",
        "env.render()\n",
        "im = env.render(\"state_pixels\")\n",
        "\n",
        "def state_image_preprocess(state_image):\n",
        "    # crop image\n",
        "    # state_image = state_image[0:84, :, :]\n",
        "    state_image = state_image.transpose((2,0,1))\n",
        "    # to torch\n",
        "    state_image = np.ascontiguousarray(state_image, dtype=np.float32) / 255\n",
        "    state_image = torch.from_numpy(state_image)\n",
        "    return state_image.unsqueeze(0).to(device)\n",
        "\n",
        "# plt.imshow(im)\n",
        "state_image_preprocess(im).shape\n",
        "plt.imshow(state_image_preprocess(im).cpu().squeeze(0).permute(1, 2, 0).numpy())"
      ],
      "execution_count": 5,
      "outputs": [
        {
          "output_type": "stream",
          "text": [
            "Track generation: 1210..1516 -> 306-tiles track\n"
          ],
          "name": "stdout"
        },
        {
          "output_type": "execute_result",
          "data": {
            "text/plain": [
              "<matplotlib.image.AxesImage at 0x7fbc8b0d5b00>"
            ]
          },
          "metadata": {
            "tags": []
          },
          "execution_count": 5
        },
        {
          "output_type": "display_data",
          "data": {
            "image/png": "[encoded data removed]",
            "text/plain": [
              "<Figure size 432x288 with 1 Axes>"
            ]
          },
          "metadata": {
            "tags": [],
            "needs_background": "light"
          }
        }
      ]
    },
    {
      "cell_type": "markdown",
      "metadata": {
        "id": "QN2SUkuJn7W1"
      },
      "source": [
        "## Custom Callback Class"
      ]
    },
    {
      "cell_type": "code",
      "metadata": {
        "id": "S5ayf9GSMSUs"
      },
      "source": [
        "from stable_baselines3.common.callbacks import BaseCallback\n",
        "\n",
        "class CustomCallback(BaseCallback):\n",
        "    \"\"\"\n",
        "    A custom callback that derives from ``BaseCallback``.\n",
        "\n",
        "    :param verbose: (int) Verbosity level 0: not output 1: info 2: debug\n",
        "    \"\"\"\n",
        "    def __init__(self, verbose=0):\n",
        "        super(CustomCallback, self).__init__(verbose)\n",
        "        # Those variables will be accessible in the callback\n",
        "        # (they are defined in the base class)\n",
        "        # The RL model\n",
        "        # self.model = None  # type: BaseAlgorithm\n",
        "        # An alias for self.model.get_env(), the environment used for training\n",
        "        # self.training_env = None  # type: Union[gym.Env, VecEnv, None]\n",
        "        # Number of time the callback was called\n",
        "        # self.n_calls = 0  # type: int\n",
        "        # self.num_timesteps = 0  # type: int\n",
        "        # local and global variables\n",
        "        # self.locals = None  # type: Dict[str, Any]\n",
        "        # self.globals = None  # type: Dict[str, Any]\n",
        "        # The logger object, used to report things in the terminal\n",
        "        # self.logger = None  # stable_baselines3.common.logger\n",
        "        # # Sometimes, for event callback, it is useful\n",
        "        # # to have access to the parent object\n",
        "        # self.parent = None  # type: Optional[BaseCallback]\n",
        "        self.episodes = 0\n",
        "        self.total_episode_reward = 0\n",
        "\n",
        "    def _on_training_start(self) -> None:\n",
        "        \"\"\"\n",
        "        This method is called before the first rollout starts.\n",
        "        \"\"\"\n",
        "        pass\n",
        "\n",
        "    def _on_rollout_start(self) -> None:\n",
        "        \"\"\"\n",
        "        A rollout is the collection of environment interaction\n",
        "        using the current policy.\n",
        "        This event is triggered before collecting new samples.\n",
        "        \"\"\"\n",
        "        pass\n",
        "\n",
        "    def _on_step(self) -> bool:\n",
        "        # update commulative reward to log at the end of every episode\n",
        "        self.total_episode_reward += self.locals[\"reward\"]\n",
        "        # at the end of every episode\n",
        "        if self.locals[\"done\"][0]:\n",
        "\n",
        "            # log the reward value if its time to not log 2 times\n",
        "            if self.episodes % self.locals[\"log_interval\"] != 0: \n",
        "                wandb.log({\"reward_per_episode\": self.total_episode_reward})\n",
        "\n",
        "            # if log interval has passed\n",
        "            if self.episodes % self.locals[\"log_interval\"] == 0:\n",
        "                # log at wandb and print the last video\n",
        "                # Save your model and optimizer\n",
        "                self.model.save(MODEL_SAVE_NAME)\n",
        "                # Save as artifact for version control.\n",
        "                artifact = wandb.Artifact(MODEL_SAVE_NAME, type='model')\n",
        "                artifact.add_file(MODEL_SAVE_NAME+\".zip\")\n",
        "                wandb.log_artifact(artifact)\n",
        "                wandb.log({\"reward_per_episode\": self.total_episode_reward})\n",
        "\n",
        "\n",
        "                mp4list = glob.glob('video/*.mp4')\n",
        "                print(mp4list)\n",
        "                if len(mp4list) > 0:\n",
        "                    print(len(mp4list))\n",
        "                    mp4 = mp4list[-1]\n",
        "                    video = io.open(mp4, 'r+b').read()\n",
        "                    encoded = base64.b64encode(video)\n",
        "\n",
        "                    # log gameplay video in wandb\n",
        "                    wandb.log({\"gameplays\": wandb.Video(mp4, fps=4, format=\"gif\")})\n",
        "\n",
        "                    # display gameplay video\n",
        "                    ipythondisplay.clear_output(wait=True)\n",
        "                    ipythondisplay.display(HTML(data='''<video alt=\"\" autoplay \n",
        "                                loop controls style=\"height: 400px;\">\n",
        "                                <source src=\"data:video/mp4;base64,{0}\" type=\"video/mp4\" />\n",
        "                            </video>'''.format(encoded.decode('ascii'))))\n",
        "                    print(\"Episode \", self.episodes)\n",
        "            self.episodes += 1\n",
        "            self.total_episode_reward = 0\n",
        "\n",
        "        \n",
        "        return True\n",
        "\n",
        "    def _on_rollout_end(self) -> None:\n",
        "        \"\"\"\n",
        "        This event is triggered before updating the policy.\n",
        "        \"\"\"\n",
        "        pass\n",
        "\n",
        "    def _on_training_end(self) -> None:\n",
        "        \"\"\"\n",
        "        This event is triggered before exiting the `learn()` method.\n",
        "        \"\"\"\n",
        "        pass"
      ],
      "execution_count": 6,
      "outputs": []
    },
    {
      "cell_type": "markdown",
      "metadata": {
        "id": "yJi0aHY7Abkn"
      },
      "source": [
        "## Training"
      ]
    },
    {
      "cell_type": "code",
      "metadata": {
        "id": "gVcpDbXiEPD7",
        "colab": {
          "base_uri": "https://localhost:8080/",
          "height": 725,
          "referenced_widgets": [
            "df95f5cc17fa4751b5caa87666699042",
            "2a76091d30d54d62b502a8546fd021cf",
            "2546dfc000604f9eba5cbbb416c857bc",
            "8432549e82d74ab8a8bf9a59e6b2b5d2",
            "430b24b2394c4d2f9ba65961d7a40b1a",
            "96028ac6c813494c9305b0932761e730",
            "e1f9d610266243698ef25bd0abb27590",
            "881df27d24e0415a9e39a12274a15c60"
          ]
        },
        "outputId": "87850e8a-e88e-4409-bcbc-375b4ce50aed"
      },
      "source": [
        "from stable_baselines3 import DQN\n",
        "from stable_baselines3.dqn import CnnPolicy\n",
        "\n",
        "DEBUG               = False\n",
        "NUM_OF_STEPS        = 1000\n",
        "NUM_OF_EPISODES     = 5\n",
        "LOG_INTERVAL        = 20\n",
        "BUFFER_SIZE         = 10000\n",
        "LEARNING_STARTS     = 1000\n",
        "WANDB_ID            = \"test_logging2\"\n",
        "WNDB_NAME           = \"test_logging2\"\n",
        "LOAD_SAVED_MODEL    = False\n",
        "MODEL_SAVE_NAME     = \"test_modell\"\n",
        "SAVED_MODEL_VERSION = \"latest\"\n",
        "\n",
        "# wnadb api key: 00d5bfbd342bb73d5aaf4f2833436d20457ef040\n",
        "os.environ[\"WANDB_ENTITY\"]  = \"andreas_giannoutsos\"\n",
        "os.environ[\"WANDB_PROJECT\"] = \"gym_car_racer\"\n",
        "os.environ[\"WANDB_RESUME\"]  = \"allow\"\n",
        "wandb.init(resume=WANDB_ID)\n",
        "wandb.run.name = WNDB_NAME\n",
        "\n",
        "# env = CarRacingDiscrete(NUM_OF_STEPS)\n",
        "env = gym.wrappers.Monitor(CarRacingDiscrete(NUM_OF_STEPS), './video', force=True)\n",
        "\n",
        "# Load model\n",
        "if LOAD_SAVED_MODEL:\n",
        "    try:\n",
        "        model_artifact = wandb.use_artifact(MODEL_SAVE_NAME+':'+SAVED_MODEL_VERSION, type='model')\n",
        "        artifact_dir = model_artifact.download()\n",
        "        model = DQN.load(artifact_dir+\"/\"+MODEL_SAVE_NAME, env=env)\n",
        "    except:\n",
        "        print(\"no model found\")\n",
        "else:    \n",
        "    model = DQN(CnnPolicy, env, verbose=1, buffer_size=LOG_INTERVAL, learning_starts=LEARNING_STARTS)\n",
        "\n",
        "# Train model\n",
        "model.learn(total_timesteps=NUM_OF_STEPS*NUM_OF_EPISODES, log_interval=LOG_INTERVAL, callback=CustomCallback())"
      ],
      "execution_count": null,
      "outputs": [
        {
          "output_type": "display_data",
          "data": {
            "text/html": [
              "Finishing last run (ID:test_logging2) before initializing another..."
            ],
            "text/plain": [
              "<IPython.core.display.HTML object>"
            ]
          },
          "metadata": {
            "tags": []
          }
        },
        {
          "output_type": "display_data",
          "data": {
            "text/html": [
              "<br/>Waiting for W&B process to finish, PID 2208<br/>Program ended successfully."
            ],
            "text/plain": [
              "<IPython.core.display.HTML object>"
            ]
          },
          "metadata": {
            "tags": []
          }
        },
        {
          "output_type": "display_data",
          "data": {
            "application/vnd.jupyter.widget-view+json": {
              "model_id": "df95f5cc17fa4751b5caa87666699042",
              "version_minor": 0,
              "version_major": 2
            },
            "text/plain": [
              "VBox(children=(Label(value=' 16.85MB of 16.85MB uploaded (0.00MB deduped)\\r'), FloatProgress(value=1.0, max=1.…"
            ]
          },
          "metadata": {
            "tags": []
          }
        },
        {
          "output_type": "display_data",
          "data": {
            "text/html": [
              "Find user logs for this run at: <code>/content/gym/car_racer_gym/wandb/run-20210221_201724-test_logging2/logs/debug.log</code>"
            ],
            "text/plain": [
              "<IPython.core.display.HTML object>"
            ]
          },
          "metadata": {
            "tags": []
          }
        },
        {
          "output_type": "display_data",
          "data": {
            "text/html": [
              "Find internal logs for this run at: <code>/content/gym/car_racer_gym/wandb/run-20210221_201724-test_logging2/logs/debug-internal.log</code>"
            ],
            "text/plain": [
              "<IPython.core.display.HTML object>"
            ]
          },
          "metadata": {
            "tags": []
          }
        },
        {
          "output_type": "display_data",
          "data": {
            "text/html": [
              "<h3>Run summary:</h3><br/><style>\n",
              "    table.wandb td:nth-child(1) { padding: 0 10px; text-align: right }\n",
              "    </style><table class=\"wandb\">\n",
              "<tr><td>_step</td><td>41</td></tr><tr><td>_runtime</td><td>13</td></tr><tr><td>_timestamp</td><td>1613938651</td></tr><tr><td>reward_per_episode</td><td>6.16846</td></tr></table>"
            ],
            "text/plain": [
              "<IPython.core.display.HTML object>"
            ]
          },
          "metadata": {
            "tags": []
          }
        },
        {
          "output_type": "display_data",
          "data": {
            "text/html": [
              "<h3>Run history:</h3><br/><style>\n",
              "    table.wandb td:nth-child(1) { padding: 0 10px; text-align: right }\n",
              "    </style><table class=\"wandb\">\n",
              "<tr><td>reward_per_episode</td><td>▅▄▃▅▄▁▃▄▅▆▄▅▂▆▁█▂▅▃▅</td></tr><tr><td>_runtime</td><td>▁▁▁▁▁▁▅▅▅▅▅▅▅████████</td></tr><tr><td>_timestamp</td><td>▁▁▁▁▁▁▅▅▅▅▅▅▅████████</td></tr><tr><td>_step</td><td>▁▁▂▂▂▃▃▃▄▄▅▅▅▆▆▆▇▇▇██</td></tr></table><br/>"
            ],
            "text/plain": [
              "<IPython.core.display.HTML object>"
            ]
          },
          "metadata": {
            "tags": []
          }
        },
        {
          "output_type": "display_data",
          "data": {
            "text/html": [
              "Synced 5 W&B file(s), 1 media file(s), 1 artifact file(s) and 0 other file(s)"
            ],
            "text/plain": [
              "<IPython.core.display.HTML object>"
            ]
          },
          "metadata": {
            "tags": []
          }
        },
        {
          "output_type": "display_data",
          "data": {
            "text/html": [
              "\n",
              "                    <br/>Synced <strong style=\"color:#cdcd00\">test_logging2</strong>: <a href=\"https://wandb.ai/andreas_giannoutsos/gym_car_racer/runs/test_logging2\" target=\"_blank\">https://wandb.ai/andreas_giannoutsos/gym_car_racer/runs/test_logging2</a><br/>\n",
              "                "
            ],
            "text/plain": [
              "<IPython.core.display.HTML object>"
            ]
          },
          "metadata": {
            "tags": []
          }
        },
        {
          "output_type": "display_data",
          "data": {
            "text/html": [
              "...Successfully finished last run (ID:test_logging2). Initializing new run:<br/><br/>"
            ],
            "text/plain": [
              "<IPython.core.display.HTML object>"
            ]
          },
          "metadata": {
            "tags": []
          }
        },
        {
          "output_type": "display_data",
          "data": {
            "text/html": [
              "\n",
              "                Tracking run with wandb version 0.10.19<br/>\n",
              "                Resuming run <strong style=\"color:#cdcd00\">test_logging2</strong> to <a href=\"https://wandb.ai\" target=\"_blank\">Weights & Biases</a> <a href=\"https://docs.wandb.com/integrations/jupyter.html\" target=\"_blank\">(Documentation)</a>.<br/>\n",
              "                Project page: <a href=\"https://wandb.ai/andreas_giannoutsos/gym_car_racer\" target=\"_blank\">https://wandb.ai/andreas_giannoutsos/gym_car_racer</a><br/>\n",
              "                Run page: <a href=\"https://wandb.ai/andreas_giannoutsos/gym_car_racer/runs/test_logging2\" target=\"_blank\">https://wandb.ai/andreas_giannoutsos/gym_car_racer/runs/test_logging2</a><br/>\n",
              "                Run data is saved locally in <code>/content/gym/car_racer_gym/wandb/run-20210221_201741-test_logging2</code><br/><br/>\n",
              "            "
            ],
            "text/plain": [
              "<IPython.core.display.HTML object>"
            ]
          },
          "metadata": {
            "tags": []
          }
        },
        {
          "output_type": "stream",
          "text": [
            "/content/gym/gym/logger.py:30: UserWarning: \u001b[33mWARN: Trying to monitor an environment which has no 'spec' set. This usually means you did not create it via 'gym.make', and is recommended only for advanced users.\u001b[0m\n",
            "  warnings.warn(colorize('%s: %s'%('WARN', msg % args), 'yellow'))\n"
          ],
          "name": "stderr"
        },
        {
          "output_type": "stream",
          "text": [
            "Using cuda device\n",
            "Wrapping the env in a DummyVecEnv.\n",
            "Wrapping the env in a VecTransposeImage.\n",
            "Track generation: 1127..1413 -> 286-tiles track\n"
          ],
          "name": "stdout"
        }
      ]
    }
  ]
}