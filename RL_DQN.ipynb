{
  "nbformat": 4,
  "nbformat_minor": 0,
  "metadata": {
    "kernelspec": {
      "display_name": "Python 3",
      "language": "python",
      "name": "python3"
    },
    "language_info": {
      "codemirror_mode": {
        "name": "ipython",
        "version": 3
      },
      "file_extension": ".py",
      "mimetype": "text/x-python",
      "name": "python",
      "nbconvert_exporter": "python",
      "pygments_lexer": "ipython3",
      "version": "3.6.8"
    },
    "colab": {
      "name": "RL_DQN.ipynb",
      "provenance": [],
      "collapsed_sections": [
        "RBqYjRFyngvS",
        "ddE_fR4j_-jR",
        "vZq4VjDqVrms",
        "c61fq6FMVv0A"
      ],
      "toc_visible": true
    },
    "accelerator": "GPU"
  },
  "cells": [
    {
      "cell_type": "markdown",
      "metadata": {
        "id": "RBqYjRFyngvS"
      },
      "source": [
        "## Install libraries"
      ]
    },
    {
      "cell_type": "code",
      "metadata": {
        "id": "gXLEWcW9_mGv"
      },
      "source": [
        "%%capture\n",
        "!sudo apt update && sudo apt install python-opengl\n",
        "!sudo apt update && sudo apt install xvfb\n",
        "!pip install gym-notebook-wrapper stable-baselines[mpi] box2d box2d-kengz pyvirtualdisplay pyglet\n",
        "# !pip install gym\n",
        "!pip install wandb\n",
        "!pip install pyvirtualdisplay -qq\n",
        "!pip install folium==0.2.1\n",
        "!apt-get install -y xvfb python-opengl ffmpeg -qq"
      ],
      "execution_count": 6,
      "outputs": []
    },
    {
      "cell_type": "code",
      "metadata": {
        "id": "r5BmHLRuAXyL"
      },
      "source": [
        "%%capture\n",
        "!git clone https://github.com/openai/gym.git\n",
        "%cd gym\n",
        "!pip install -e .\n",
        "!pip install stable-baselines[mpi]\n",
        "!pip install stable-baselines3[extra]"
      ],
      "execution_count": 7,
      "outputs": []
    },
    {
      "cell_type": "markdown",
      "metadata": {
        "id": "ddE_fR4j_-jR"
      },
      "source": [
        "## Import useful libraries"
      ]
    },
    {
      "cell_type": "code",
      "metadata": {
        "id": "RtC2hX1EcRXE"
      },
      "source": [
        "import math\n",
        "import random\n",
        "import numpy as np\n",
        "import matplotlib\n",
        "import matplotlib.pyplot as plt\n",
        "from collections import namedtuple\n",
        "from itertools import count\n",
        "from PIL import Image\n",
        "import torch\n",
        "import gnwrapper\n",
        "import gym\n",
        "from gym import logger as gymlogger\n",
        "from gym.wrappers import Monitor\n",
        "gymlogger.set_level(30)\n",
        "import glob\n",
        "import io\n",
        "import os\n",
        "import cv2\n",
        "import base64\n",
        "from collections import deque\n",
        "from datetime import datetime\n",
        "from IPython.display import HTML\n",
        "from IPython import display as ipythondisplay\n",
        "from pyvirtualdisplay import Display\n",
        "import wandb\n",
        "import time\n",
        "\n",
        "is_ipython = 'inline' in matplotlib.get_backend()\n",
        "if is_ipython:\n",
        "    from IPython import display\n",
        "\n",
        "# if gpu is to be used\n",
        "device = torch.device(\"cuda\" if torch.cuda.is_available() else \"cpu\")"
      ],
      "execution_count": 8,
      "outputs": []
    },
    {
      "cell_type": "markdown",
      "metadata": {
        "id": "vZq4VjDqVrms"
      },
      "source": [
        "## Get a modified vsersion of Car Racing from github official site "
      ]
    },
    {
      "cell_type": "code",
      "metadata": {
        "id": "nRplH8vdVpw0",
        "colab": {
          "base_uri": "https://localhost:8080/"
        },
        "outputId": "45d5ccfd-3914-468b-e82c-dfe661b9a79d"
      },
      "source": [
        "!git clone https://github.com/AGiannoutsos/car_racer_gym.git\n",
        "%cd car_racer_gym\n",
        "\n",
        "from car_racing import CarRacingDiscrete, CarRacing "
      ],
      "execution_count": 9,
      "outputs": [
        {
          "output_type": "stream",
          "text": [
            "Cloning into 'car_racer_gym'...\n",
            "remote: Enumerating objects: 36, done.\u001b[K\n",
            "remote: Counting objects:   2% (1/36)\u001b[K\rremote: Counting objects:   5% (2/36)\u001b[K\rremote: Counting objects:   8% (3/36)\u001b[K\rremote: Counting objects:  11% (4/36)\u001b[K\rremote: Counting objects:  13% (5/36)\u001b[K\rremote: Counting objects:  16% (6/36)\u001b[K\rremote: Counting objects:  19% (7/36)\u001b[K\rremote: Counting objects:  22% (8/36)\u001b[K\rremote: Counting objects:  25% (9/36)\u001b[K\rremote: Counting objects:  27% (10/36)\u001b[K\rremote: Counting objects:  30% (11/36)\u001b[K\rremote: Counting objects:  33% (12/36)\u001b[K\rremote: Counting objects:  36% (13/36)\u001b[K\rremote: Counting objects:  38% (14/36)\u001b[K\rremote: Counting objects:  41% (15/36)\u001b[K\rremote: Counting objects:  44% (16/36)\u001b[K\rremote: Counting objects:  47% (17/36)\u001b[K\rremote: Counting objects:  50% (18/36)\u001b[K\rremote: Counting objects:  52% (19/36)\u001b[K\rremote: Counting objects:  55% (20/36)\u001b[K\rremote: Counting objects:  58% (21/36)\u001b[K\rremote: Counting objects:  61% (22/36)\u001b[K\rremote: Counting objects:  63% (23/36)\u001b[K\rremote: Counting objects:  66% (24/36)\u001b[K\rremote: Counting objects:  69% (25/36)\u001b[K\rremote: Counting objects:  72% (26/36)\u001b[K\rremote: Counting objects:  75% (27/36)\u001b[K\rremote: Counting objects:  77% (28/36)\u001b[K\rremote: Counting objects:  80% (29/36)\u001b[K\rremote: Counting objects:  83% (30/36)\u001b[K\rremote: Counting objects:  86% (31/36)\u001b[K\rremote: Counting objects:  88% (32/36)\u001b[K\rremote: Counting objects:  91% (33/36)\u001b[K\rremote: Counting objects:  94% (34/36)\u001b[K\rremote: Counting objects:  97% (35/36)\u001b[K\rremote: Counting objects: 100% (36/36)\u001b[K\rremote: Counting objects: 100% (36/36), done.\u001b[K\n",
            "remote: Compressing objects: 100% (36/36), done.\u001b[K\n",
            "remote: Total 36 (delta 13), reused 0 (delta 0), pack-reused 0\u001b[K\n",
            "Unpacking objects: 100% (36/36), done.\n",
            "/content/gym/car_racer_gym\n"
          ],
          "name": "stdout"
        }
      ]
    },
    {
      "cell_type": "markdown",
      "metadata": {
        "id": "c61fq6FMVv0A"
      },
      "source": [
        "## Quick example with CarRacing"
      ]
    },
    {
      "cell_type": "code",
      "metadata": {
        "colab": {
          "base_uri": "https://localhost:8080/",
          "height": 0
        },
        "id": "-3RPjFbySdb6",
        "outputId": "5e58ca4f-6c17-4e2c-f779-b2ced648bc23"
      },
      "source": [
        "# from gym.envs.box2d import CarRacing\n",
        "env = gnwrapper.Animation(CarRacingDiscrete())\n",
        "env = CarRacingDiscrete()\n",
        "\n",
        "env.reset()\n",
        "env.render()\n",
        "im = env.render(\"state_pixels\")\n",
        "\n",
        "def state_image_preprocess(state_image):\n",
        "    # crop image\n",
        "    # state_image = state_image[0:84, :, :]\n",
        "    state_image = state_image.transpose((2,0,1))\n",
        "    # to torch\n",
        "    state_image = np.ascontiguousarray(state_image, dtype=np.float32) / 255\n",
        "    state_image = torch.from_numpy(state_image)\n",
        "    return state_image.unsqueeze(0).to(device)\n",
        "\n",
        "# plt.imshow(im)\n",
        "state_image_preprocess(im).shape\n",
        "plt.imshow(state_image_preprocess(im).cpu().squeeze(0).permute(1, 2, 0).numpy())"
      ],
      "execution_count": 10,
      "outputs": [
        {
          "output_type": "stream",
          "text": [
            "Track generation: 1171..1468 -> 297-tiles track\n"
          ],
          "name": "stdout"
        },
        {
          "output_type": "execute_result",
          "data": {
            "text/plain": [
              "<matplotlib.image.AxesImage at 0x7f8a5028d8d0>"
            ]
          },
          "metadata": {
            "tags": []
          },
          "execution_count": 10
        },
        {
          "output_type": "display_data",
          "data": {
            "image/png": "[encoded data removed]",
            "text/plain": [
              "<Figure size 432x288 with 1 Axes>"
            ]
          },
          "metadata": {
            "tags": [],
            "needs_background": "light"
          }
        }
      ]
    },
    {
      "cell_type": "markdown",
      "metadata": {
        "id": "QN2SUkuJn7W1"
      },
      "source": [
        "## Custom Callback Class"
      ]
    },
    {
      "cell_type": "markdown",
      "metadata": {
        "id": "Q9jNon_ptVrX"
      },
      "source": [
        "### DQN callback"
      ]
    },
    {
      "cell_type": "code",
      "metadata": {
        "id": "S5ayf9GSMSUs"
      },
      "source": [
        "from stable_baselines3.common.callbacks import BaseCallback\n",
        "\n",
        "class DQNCustomCallback(BaseCallback):\n",
        "    \"\"\"\n",
        "    A custom callback that derives from ``BaseCallback``.\n",
        "\n",
        "    :param verbose: (int) Verbosity level 0: not output 1: info 2: debug\n",
        "    \"\"\"\n",
        "    def __init__(self, verbose=0):\n",
        "        super(DQNCustomCallback, self).__init__(verbose)\n",
        "        # Those variables will be accessible in the callback\n",
        "        # (they are defined in the base class)\n",
        "        # The RL model\n",
        "        # self.model = None  # type: BaseAlgorithm\n",
        "        # An alias for self.model.get_env(), the environment used for training\n",
        "        # self.training_env = None  # type: Union[gym.Env, VecEnv, None]\n",
        "        # Number of time the callback was called\n",
        "        # self.n_calls = 0  # type: int\n",
        "        # self.num_timesteps = 0  # type: int\n",
        "        # local and global variables\n",
        "        # self.locals = None  # type: Dict[str, Any]\n",
        "        # self.globals = None  # type: Dict[str, Any]\n",
        "        # The logger object, used to report things in the terminal\n",
        "        # self.logger = None  # stable_baselines3.common.logger\n",
        "        # # Sometimes, for event callback, it is useful\n",
        "        # # to have access to the parent object\n",
        "        # self.parent = None  # type: Optional[BaseCallback]\n",
        "        self.episodes = 0\n",
        "        self.total_episode_reward = 0\n",
        "\n",
        "    def _on_training_start(self) -> None:\n",
        "        \"\"\"\n",
        "        This method is called before the first rollout starts.\n",
        "        \"\"\"\n",
        "        pass\n",
        "\n",
        "    def _on_rollout_start(self) -> None:\n",
        "        \"\"\"\n",
        "        A rollout is the collection of environment interaction\n",
        "        using the current policy.\n",
        "        This event is triggered before collecting new samples.\n",
        "        \"\"\"\n",
        "        pass\n",
        "\n",
        "    def _on_step(self) -> bool:\n",
        "        # update commulative reward to log at the end of every episode\n",
        "        self.total_episode_reward += self.locals[\"reward\"]\n",
        "        # at the end of every episode\n",
        "        if self.locals[\"done\"][0]:\n",
        "\n",
        "            # log the reward value if its time to not log 2 times\n",
        "            if self.episodes % self.locals[\"log_interval\"] != 0: \n",
        "                wandb.log({\"reward_per_episode\": self.total_episode_reward})\n",
        "\n",
        "            # if log interval has passed\n",
        "            if self.episodes % self.locals[\"log_interval\"] == 0:\n",
        "                # log at wandb and print the last video\n",
        "                # Save your model and optimizer\n",
        "                self.model.save(MODEL_SAVE_NAME)\n",
        "                # Save as artifact for version control.\n",
        "                artifact = wandb.Artifact(MODEL_SAVE_NAME, type='model')\n",
        "                artifact.add_file(MODEL_SAVE_NAME+\".zip\")\n",
        "                wandb.log_artifact(artifact)\n",
        "                wandb.log({\"reward_per_episode\": self.total_episode_reward})\n",
        "\n",
        "\n",
        "                mp4list = glob.glob('video/*.mp4')\n",
        "                print(mp4list)\n",
        "                if len(mp4list) > 0:\n",
        "                    print(len(mp4list))\n",
        "                    mp4 = mp4list[-1]\n",
        "                    video = io.open(mp4, 'r+b').read()\n",
        "                    encoded = base64.b64encode(video)\n",
        "\n",
        "                    # log gameplay video in wandb\n",
        "                    wandb.log({\"gameplays\": wandb.Video(mp4, fps=4, format=\"gif\")})\n",
        "\n",
        "                    # display gameplay video\n",
        "                    ipythondisplay.clear_output(wait=True)\n",
        "                    ipythondisplay.display(HTML(data='''<video alt=\"\" autoplay \n",
        "                                loop controls style=\"height: 400px;\">\n",
        "                                <source src=\"data:video/mp4;base64,{0}\" type=\"video/mp4\" />\n",
        "                            </video>'''.format(encoded.decode('ascii'))))\n",
        "                    print(\"Episode \", self.episodes)\n",
        "            self.episodes += 1\n",
        "            self.total_episode_reward = 0\n",
        "\n",
        "        \n",
        "        return True\n",
        "\n",
        "    def _on_rollout_end(self) -> None:\n",
        "        \"\"\"\n",
        "        This event is triggered before updating the policy.\n",
        "        \"\"\"\n",
        "        pass\n",
        "\n",
        "    def _on_training_end(self) -> None:\n",
        "        \"\"\"\n",
        "        This event is triggered before exiting the `learn()` method.\n",
        "        \"\"\"\n",
        "        pass\n",
        "\n"
      ],
      "execution_count": 11,
      "outputs": []
    },
    {
      "cell_type": "markdown",
      "metadata": {
        "id": "nAibF3uqtY1c"
      },
      "source": [
        "### PPO callback"
      ]
    },
    {
      "cell_type": "code",
      "metadata": {
        "id": "-mL6SAtttdwK"
      },
      "source": [
        "class PPOCustomCallback(BaseCallback):\n",
        "    \"\"\"\n",
        "    A custom callback that derives from ``BaseCallback``.\n",
        "\n",
        "    :param verbose: (int) Verbosity level 0: not output 1: info 2: debug\n",
        "    \"\"\"\n",
        "    def __init__(self, verbose=0):\n",
        "        super(PPOCustomCallback, self).__init__(verbose)\n",
        "        # Those variables will be accessible in the callback\n",
        "        # (they are defined in the base class)\n",
        "        # The RL model\n",
        "        # self.model = None  # type: BaseAlgorithm\n",
        "        # An alias for self.model.get_env(), the environment used for training\n",
        "        # self.training_env = None  # type: Union[gym.Env, VecEnv, None]\n",
        "        # Number of time the callback was called\n",
        "        # self.n_calls = 0  # type: int\n",
        "        # self.num_timesteps = 0  # type: int\n",
        "        # local and global variables\n",
        "        # self.locals = None  # type: Dict[str, Any]\n",
        "        # self.globals = None  # type: Dict[str, Any]\n",
        "        # The logger object, used to report things in the terminal\n",
        "        # self.logger = None  # stable_baselines3.common.logger\n",
        "        # # Sometimes, for event callback, it is useful\n",
        "        # # to have access to the parent object\n",
        "        # self.parent = None  # type: Optional[BaseCallback]\n",
        "        self.episodes = 0\n",
        "        self.total_episode_reward = 0\n",
        "\n",
        "    def _on_training_start(self) -> None:\n",
        "        \"\"\"\n",
        "        This method is called before the first rollout starts.\n",
        "        \"\"\"\n",
        "        pass\n",
        "\n",
        "    def _on_rollout_start(self) -> None:\n",
        "        \"\"\"\n",
        "        A rollout is the collection of environment interaction\n",
        "        using the current policy.\n",
        "        This event is triggered before collecting new samples.\n",
        "        \"\"\"\n",
        "        pass\n",
        "\n",
        "    def _on_step(self) -> bool:\n",
        "        # update commulative reward to log at the end of every episode\n",
        "        self.total_episode_reward += self.locals[\"rewards\"]\n",
        "        # at the end of every episode\n",
        "        if self.locals[\"dones\"][0]:\n",
        "\n",
        "            # log the reward value if its time to not log 2 times\n",
        "            if self.episodes % self.locals[\"log_interval\"] != 0: \n",
        "                wandb.log({\"reward_per_episode\": self.total_episode_reward})\n",
        "\n",
        "            # if log interval has passed\n",
        "            if self.episodes % self.locals[\"log_interval\"] == 0:\n",
        "                # log at wandb and print the last video\n",
        "                # Save your model and optimizer\n",
        "                self.model.save(MODEL_SAVE_NAME)\n",
        "                # Save as artifact for version control.\n",
        "                artifact = wandb.Artifact(MODEL_SAVE_NAME, type='model')\n",
        "                artifact.add_file(MODEL_SAVE_NAME+\".zip\")\n",
        "                wandb.log_artifact(artifact)\n",
        "                wandb.log({\"reward_per_episode\": self.total_episode_reward})\n",
        "\n",
        "\n",
        "                mp4list = glob.glob('video/*.mp4')\n",
        "                print(mp4list)\n",
        "                if len(mp4list) > 0:\n",
        "                    print(len(mp4list))\n",
        "                    mp4 = mp4list[-1]\n",
        "                    video = io.open(mp4, 'r+b').read()\n",
        "                    encoded = base64.b64encode(video)\n",
        "\n",
        "                    # log gameplay video in wandb\n",
        "                    wandb.log({\"gameplays\": wandb.Video(mp4, fps=4, format=\"gif\")})\n",
        "\n",
        "                    # display gameplay video\n",
        "                    ipythondisplay.clear_output(wait=True)\n",
        "                    ipythondisplay.display(HTML(data='''<video alt=\"\" autoplay \n",
        "                                loop controls style=\"height: 400px;\">\n",
        "                                <source src=\"data:video/mp4;base64,{0}\" type=\"video/mp4\" />\n",
        "                            </video>'''.format(encoded.decode('ascii'))))\n",
        "                    print(\"Episode \", self.episodes)\n",
        "            self.episodes += 1\n",
        "            self.total_episode_reward = 0\n",
        "\n",
        "        \n",
        "        return True\n",
        "\n",
        "    def _on_rollout_end(self) -> None:\n",
        "        \"\"\"\n",
        "        This event is triggered before updating the policy.\n",
        "        \"\"\"\n",
        "        pass\n",
        "\n",
        "    def _on_training_end(self) -> None:\n",
        "        \"\"\"\n",
        "        This event is triggered before exiting the `learn()` method.\n",
        "        \"\"\"\n",
        "        pass"
      ],
      "execution_count": 12,
      "outputs": []
    },
    {
      "cell_type": "markdown",
      "metadata": {
        "id": "yJi0aHY7Abkn"
      },
      "source": [
        "## Training"
      ]
    },
    {
      "cell_type": "markdown",
      "metadata": {
        "id": "a7J6QN1x065c"
      },
      "source": [
        "### PPO"
      ]
    },
    {
      "cell_type": "code",
      "metadata": {
        "id": "lHa1SAwLTUzG"
      },
      "source": [
        "from stable_baselines3 import PPO\n",
        "from stable_baselines3.ppo import CnnPolicy\n",
        "from stable_baselines3.common.env_util import make_vec_env\n",
        "\n",
        "\n",
        "\n",
        "NUM_OF_STEPS        = 500\n",
        "NUM_OF_EPISODES     = 4\n",
        "LOG_INTERVAL        = 2\n",
        "BUFFER_SIZE         = 10000\n",
        "LEARNING_STARTS     = 1000\n",
        "WANDB_ID            = \"test_logging2\"\n",
        "WNDB_NAME           = \"test_logging2\"\n",
        "LOAD_SAVED_MODEL    = False\n",
        "MODEL_SAVE_NAME     = \"test_modell\"\n",
        "SAVED_MODEL_VERSION = \"latest\"\n",
        "\n",
        "# wnadb api key: 00d5bfbd342bb73d5aaf4f2833436d20457ef040\n",
        "os.environ[\"WANDB_ENTITY\"]  = \"andreas_giannoutsos\"\n",
        "os.environ[\"WANDB_PROJECT\"] = \"gym_car_racer\"\n",
        "os.environ[\"WANDB_RESUME\"]  = \"allow\"\n",
        "wandb.init(resume=WANDB_ID)\n",
        "wandb.run.name = WNDB_NAME\n",
        "\n",
        "# env = CarRacing(NUM_OF_STEPS)\n",
        "env = gym.wrappers.Monitor(CarRacing(NUM_OF_STEPS), './video', force=True)\n",
        "# env = make_vec_env(CarRacing, n_envs=4)\n",
        "\n",
        "\n",
        "# Load model\n",
        "if LOAD_SAVED_MODEL:\n",
        "    try:\n",
        "        model_artifact = wandb.use_artifact(MODEL_SAVE_NAME+':'+SAVED_MODEL_VERSION, type='model')\n",
        "        artifact_dir = model_artifact.download()\n",
        "        PPOmodel = PPO.load(artifact_dir+\"/\"+MODEL_SAVE_NAME, env=env)\n",
        "        print(\"LOAD SAVED PPΟ MODEL\")\n",
        "\n",
        "    except:\n",
        "        print(\"NO MODEL FOUND\")\n",
        "else:\n",
        "    if 'PPOmodel' not in globals():\n",
        "        PPOmodel = PPO(CnnPolicy, env, verbose=1)\n",
        "        print(\"INITIALIZE NEW PPO MODEL\")\n",
        "    else:\n",
        "        PPOmodel = PPO.load(MODEL_SAVE_NAME, env=env)\n",
        "        print(\"CONTINUE PPO MODEL TRAINING\")\n",
        "\n",
        "\n",
        "# Train model\n",
        "PPOmodel.learn(total_timesteps=NUM_OF_STEPS*NUM_OF_EPISODES, log_interval=LOG_INTERVAL, callback=PPOCustomCallback())\n",
        "PPOmodel.save(MODEL_SAVE_NAME)"
      ],
      "execution_count": null,
      "outputs": []
    },
    {
      "cell_type": "markdown",
      "metadata": {
        "id": "aSBBoq8W08vN"
      },
      "source": [
        "### DQN"
      ]
    },
    {
      "cell_type": "code",
      "metadata": {
        "id": "gVcpDbXiEPD7"
      },
      "source": [
        "from stable_baselines3 import DQN\n",
        "from stable_baselines3.dqn import CnnPolicy\n",
        "\n",
        "NUM_OF_STEPS        = 500\n",
        "NUM_OF_EPISODES     = 4\n",
        "LOG_INTERVAL        = 2\n",
        "BUFFER_SIZE         = 10000\n",
        "LEARNING_STARTS     = 1000\n",
        "WANDB_ID            = \"test_logging2\"\n",
        "WNDB_NAME           = \"test_logging2\"\n",
        "LOAD_SAVED_MODEL    = False\n",
        "MODEL_SAVE_NAME     = \"test_modell\"\n",
        "SAVED_MODEL_VERSION = \"latest\"\n",
        "\n",
        "# wnadb api key: 00d5bfbd342bb73d5aaf4f2833436d20457ef040\n",
        "os.environ[\"WANDB_ENTITY\"]  = \"andreas_giannoutsos\"\n",
        "os.environ[\"WANDB_PROJECT\"] = \"gym_car_racer\"\n",
        "os.environ[\"WANDB_RESUME\"]  = \"allow\"\n",
        "wandb.init(resume=WANDB_ID)\n",
        "wandb.run.name = WNDB_NAME\n",
        "\n",
        "# env = CarRacingDiscrete(NUM_OF_STEPS)\n",
        "env = gym.wrappers.Monitor(CarRacingDiscrete(NUM_OF_STEPS), './video', force=True)\n",
        "\n",
        "# Load model\n",
        "if LOAD_SAVED_MODEL:\n",
        "    try:\n",
        "        model_artifact = wandb.use_artifact(MODEL_SAVE_NAME+':'+SAVED_MODEL_VERSION, type='model')\n",
        "        artifact_dir = model_artifact.download()\n",
        "        DQNmodel = DQN.load(artifact_dir+\"/\"+MODEL_SAVE_NAME, env=env)\n",
        "        print(\"LOAD SAVED DQN MODEL\")\n",
        "    except:\n",
        "        print(\"NO MODEL FOUND\")\n",
        "else:    \n",
        "    if 'DQNmodel' not in globals():\n",
        "        DQNmodel = DQN(CnnPolicy, env, verbose=1, buffer_size=BUFFER_SIZE, learning_starts=LEARNING_STARTS)\n",
        "        print(\"INITIALIZE NEW DQN MODEL\")\n",
        "    else:\n",
        "        DQNmodel = DQN.load(MODEL_SAVE_NAME, env=env)\n",
        "        print(\"CONTINUE DQN MODEL TRAINING\")\n",
        "\n",
        "# Train model\n",
        "DQNmodel.learn(total_timesteps=NUM_OF_STEPS*NUM_OF_EPISODES, log_interval=LOG_INTERVAL, callback=DQNCustomCallback())\n",
        "DQNmodel.save(MODEL_SAVE_NAME)"
      ],
      "execution_count": null,
      "outputs": []
    }
  ]
}