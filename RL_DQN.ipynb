{
  "nbformat": 4,
  "nbformat_minor": 0,
  "metadata": {
    "kernelspec": {
      "display_name": "Python 3",
      "language": "python",
      "name": "python3"
    },
    "language_info": {
      "codemirror_mode": {
        "name": "ipython",
        "version": 3
      },
      "file_extension": ".py",
      "mimetype": "text/x-python",
      "name": "python",
      "nbconvert_exporter": "python",
      "pygments_lexer": "ipython3",
      "version": "3.6.8"
    },
    "colab": {
      "name": "RL_DQN.ipynb",
      "provenance": [],
      "collapsed_sections": [
        "RBqYjRFyngvS",
        "ddE_fR4j_-jR",
        "vZq4VjDqVrms",
        "c61fq6FMVv0A",
        "QN2SUkuJn7W1",
        "Q9jNon_ptVrX"
      ],
      "toc_visible": true
    },
    "accelerator": "GPU",
    "widgets": {
      "application/vnd.jupyter.widget-state+json": {
        "1c266855ed8a49178108446277aecf5a": {
          "model_module": "@jupyter-widgets/controls",
          "model_name": "VBoxModel",
          "state": {
            "_view_name": "VBoxView",
            "_dom_classes": [],
            "_model_name": "VBoxModel",
            "_view_module": "@jupyter-widgets/controls",
            "_model_module_version": "1.5.0",
            "_view_count": null,
            "_view_module_version": "1.5.0",
            "box_style": "",
            "layout": "IPY_MODEL_bdf687ebfc0949258b0a682d0e3de8e6",
            "_model_module": "@jupyter-widgets/controls",
            "children": [
              "IPY_MODEL_cd6f083af4e7432d9d356892b44fe98e",
              "IPY_MODEL_f99497fbdbdc41229cb2612bffaddf23"
            ]
          }
        },
        "bdf687ebfc0949258b0a682d0e3de8e6": {
          "model_module": "@jupyter-widgets/base",
          "model_name": "LayoutModel",
          "state": {
            "_view_name": "LayoutView",
            "grid_template_rows": null,
            "right": null,
            "justify_content": null,
            "_view_module": "@jupyter-widgets/base",
            "overflow": null,
            "_model_module_version": "1.2.0",
            "_view_count": null,
            "flex_flow": null,
            "width": null,
            "min_width": null,
            "border": null,
            "align_items": null,
            "bottom": null,
            "_model_module": "@jupyter-widgets/base",
            "top": null,
            "grid_column": null,
            "overflow_y": null,
            "overflow_x": null,
            "grid_auto_flow": null,
            "grid_area": null,
            "grid_template_columns": null,
            "flex": null,
            "_model_name": "LayoutModel",
            "justify_items": null,
            "grid_row": null,
            "max_height": null,
            "align_content": null,
            "visibility": null,
            "align_self": null,
            "height": null,
            "min_height": null,
            "padding": null,
            "grid_auto_rows": null,
            "grid_gap": null,
            "max_width": null,
            "order": null,
            "_view_module_version": "1.2.0",
            "grid_template_areas": null,
            "object_position": null,
            "object_fit": null,
            "grid_auto_columns": null,
            "margin": null,
            "display": null,
            "left": null
          }
        },
        "cd6f083af4e7432d9d356892b44fe98e": {
          "model_module": "@jupyter-widgets/controls",
          "model_name": "LabelModel",
          "state": {
            "_view_name": "LabelView",
            "style": "IPY_MODEL_2960414ce0b8414291fb3f00f8e0c6bd",
            "_dom_classes": [],
            "description": "",
            "_model_name": "LabelModel",
            "placeholder": "​",
            "_view_module": "@jupyter-widgets/controls",
            "_model_module_version": "1.5.0",
            "value": " 33.72MB of 33.72MB uploaded (0.00MB deduped)\r",
            "_view_count": null,
            "_view_module_version": "1.5.0",
            "description_tooltip": null,
            "_model_module": "@jupyter-widgets/controls",
            "layout": "IPY_MODEL_1593593ad0634831b372f7758880c812"
          }
        },
        "f99497fbdbdc41229cb2612bffaddf23": {
          "model_module": "@jupyter-widgets/controls",
          "model_name": "FloatProgressModel",
          "state": {
            "_view_name": "ProgressView",
            "style": "IPY_MODEL_ec50d51fdf194a9a92d5dd2a134110a9",
            "_dom_classes": [],
            "description": "",
            "_model_name": "FloatProgressModel",
            "bar_style": "",
            "max": 1,
            "_view_module": "@jupyter-widgets/controls",
            "_model_module_version": "1.5.0",
            "value": 1,
            "_view_count": null,
            "_view_module_version": "1.5.0",
            "orientation": "horizontal",
            "min": 0,
            "description_tooltip": null,
            "_model_module": "@jupyter-widgets/controls",
            "layout": "IPY_MODEL_3f03fc8c9e0a481694cc79660440c8ec"
          }
        },
        "2960414ce0b8414291fb3f00f8e0c6bd": {
          "model_module": "@jupyter-widgets/controls",
          "model_name": "DescriptionStyleModel",
          "state": {
            "_view_name": "StyleView",
            "_model_name": "DescriptionStyleModel",
            "description_width": "",
            "_view_module": "@jupyter-widgets/base",
            "_model_module_version": "1.5.0",
            "_view_count": null,
            "_view_module_version": "1.2.0",
            "_model_module": "@jupyter-widgets/controls"
          }
        },
        "1593593ad0634831b372f7758880c812": {
          "model_module": "@jupyter-widgets/base",
          "model_name": "LayoutModel",
          "state": {
            "_view_name": "LayoutView",
            "grid_template_rows": null,
            "right": null,
            "justify_content": null,
            "_view_module": "@jupyter-widgets/base",
            "overflow": null,
            "_model_module_version": "1.2.0",
            "_view_count": null,
            "flex_flow": null,
            "width": null,
            "min_width": null,
            "border": null,
            "align_items": null,
            "bottom": null,
            "_model_module": "@jupyter-widgets/base",
            "top": null,
            "grid_column": null,
            "overflow_y": null,
            "overflow_x": null,
            "grid_auto_flow": null,
            "grid_area": null,
            "grid_template_columns": null,
            "flex": null,
            "_model_name": "LayoutModel",
            "justify_items": null,
            "grid_row": null,
            "max_height": null,
            "align_content": null,
            "visibility": null,
            "align_self": null,
            "height": null,
            "min_height": null,
            "padding": null,
            "grid_auto_rows": null,
            "grid_gap": null,
            "max_width": null,
            "order": null,
            "_view_module_version": "1.2.0",
            "grid_template_areas": null,
            "object_position": null,
            "object_fit": null,
            "grid_auto_columns": null,
            "margin": null,
            "display": null,
            "left": null
          }
        },
        "ec50d51fdf194a9a92d5dd2a134110a9": {
          "model_module": "@jupyter-widgets/controls",
          "model_name": "ProgressStyleModel",
          "state": {
            "_view_name": "StyleView",
            "_model_name": "ProgressStyleModel",
            "description_width": "",
            "_view_module": "@jupyter-widgets/base",
            "_model_module_version": "1.5.0",
            "_view_count": null,
            "_view_module_version": "1.2.0",
            "bar_color": null,
            "_model_module": "@jupyter-widgets/controls"
          }
        },
        "3f03fc8c9e0a481694cc79660440c8ec": {
          "model_module": "@jupyter-widgets/base",
          "model_name": "LayoutModel",
          "state": {
            "_view_name": "LayoutView",
            "grid_template_rows": null,
            "right": null,
            "justify_content": null,
            "_view_module": "@jupyter-widgets/base",
            "overflow": null,
            "_model_module_version": "1.2.0",
            "_view_count": null,
            "flex_flow": null,
            "width": null,
            "min_width": null,
            "border": null,
            "align_items": null,
            "bottom": null,
            "_model_module": "@jupyter-widgets/base",
            "top": null,
            "grid_column": null,
            "overflow_y": null,
            "overflow_x": null,
            "grid_auto_flow": null,
            "grid_area": null,
            "grid_template_columns": null,
            "flex": null,
            "_model_name": "LayoutModel",
            "justify_items": null,
            "grid_row": null,
            "max_height": null,
            "align_content": null,
            "visibility": null,
            "align_self": null,
            "height": null,
            "min_height": null,
            "padding": null,
            "grid_auto_rows": null,
            "grid_gap": null,
            "max_width": null,
            "order": null,
            "_view_module_version": "1.2.0",
            "grid_template_areas": null,
            "object_position": null,
            "object_fit": null,
            "grid_auto_columns": null,
            "margin": null,
            "display": null,
            "left": null
          }
        }
      }
    }
  },
  "cells": [
    {
      "cell_type": "markdown",
      "metadata": {
        "id": "RBqYjRFyngvS"
      },
      "source": [
        "## Install libraries"
      ]
    },
    {
      "cell_type": "code",
      "metadata": {
        "id": "gXLEWcW9_mGv"
      },
      "source": [
        "%%capture\n",
        "!sudo apt update && sudo apt install python-opengl\n",
        "!sudo apt update && sudo apt install xvfb\n",
        "!pip install gym-notebook-wrapper stable-baselines[mpi] box2d box2d-kengz pyvirtualdisplay pyglet\n",
        "# !pip install gym\n",
        "!pip install wandb\n",
        "!pip install pyvirtualdisplay -qq\n",
        "!pip install folium==0.2.1\n",
        "!apt-get install -y xvfb python-opengl ffmpeg -qq"
      ],
      "execution_count": 1,
      "outputs": []
    },
    {
      "cell_type": "code",
      "metadata": {
        "id": "r5BmHLRuAXyL"
      },
      "source": [
        "%%capture\n",
        "!git clone https://github.com/openai/gym.git\n",
        "%cd gym\n",
        "!pip install -e .\n",
        "!pip install stable-baselines[mpi]\n",
        "!pip install stable-baselines3[extra]"
      ],
      "execution_count": 2,
      "outputs": []
    },
    {
      "cell_type": "markdown",
      "metadata": {
        "id": "ddE_fR4j_-jR"
      },
      "source": [
        "## Import useful libraries"
      ]
    },
    {
      "cell_type": "code",
      "metadata": {
        "id": "RtC2hX1EcRXE"
      },
      "source": [
        "import math\n",
        "import random\n",
        "import numpy as np\n",
        "import matplotlib\n",
        "import matplotlib.pyplot as plt\n",
        "from collections import namedtuple\n",
        "from itertools import count\n",
        "from PIL import Image\n",
        "import torch\n",
        "import gnwrapper\n",
        "import gym\n",
        "from gym import logger as gymlogger\n",
        "from gym.wrappers import Monitor\n",
        "gymlogger.set_level(30)\n",
        "import glob\n",
        "import io\n",
        "import os\n",
        "import cv2\n",
        "import base64\n",
        "from collections import deque\n",
        "from datetime import datetime\n",
        "from IPython.display import HTML\n",
        "from IPython import display as ipythondisplay\n",
        "from pyvirtualdisplay import Display\n",
        "import wandb\n",
        "import time\n",
        "\n",
        "is_ipython = 'inline' in matplotlib.get_backend()\n",
        "if is_ipython:\n",
        "    from IPython import display\n",
        "\n",
        "# if gpu is to be used\n",
        "device = torch.device(\"cuda\" if torch.cuda.is_available() else \"cpu\")"
      ],
      "execution_count": 3,
      "outputs": []
    },
    {
      "cell_type": "markdown",
      "metadata": {
        "id": "vZq4VjDqVrms"
      },
      "source": [
        "## Get a modified vsersion of Car Racing from github official site "
      ]
    },
    {
      "cell_type": "code",
      "metadata": {
        "id": "nRplH8vdVpw0",
        "colab": {
          "base_uri": "https://localhost:8080/"
        },
        "outputId": "76fff9b3-d7eb-4916-db75-d1775ae9c24f"
      },
      "source": [
        "!git clone https://github.com/AGiannoutsos/car_racer_gym.git\n",
        "%cd car_racer_gym\n",
        "\n",
        "from car_racing import CarRacingDiscrete, CarRacing "
      ],
      "execution_count": 4,
      "outputs": [
        {
          "output_type": "stream",
          "text": [
            "Cloning into 'car_racer_gym'...\n",
            "remote: Enumerating objects: 39, done.\u001b[K\n",
            "remote: Counting objects:   2% (1/39)\u001b[K\rremote: Counting objects:   5% (2/39)\u001b[K\rremote: Counting objects:   7% (3/39)\u001b[K\rremote: Counting objects:  10% (4/39)\u001b[K\rremote: Counting objects:  12% (5/39)\u001b[K\rremote: Counting objects:  15% (6/39)\u001b[K\rremote: Counting objects:  17% (7/39)\u001b[K\rremote: Counting objects:  20% (8/39)\u001b[K\rremote: Counting objects:  23% (9/39)\u001b[K\rremote: Counting objects:  25% (10/39)\u001b[K\rremote: Counting objects:  28% (11/39)\u001b[K\rremote: Counting objects:  30% (12/39)\u001b[K\rremote: Counting objects:  33% (13/39)\u001b[K\rremote: Counting objects:  35% (14/39)\u001b[K\rremote: Counting objects:  38% (15/39)\u001b[K\rremote: Counting objects:  41% (16/39)\u001b[K\rremote: Counting objects:  43% (17/39)\u001b[K\rremote: Counting objects:  46% (18/39)\u001b[K\rremote: Counting objects:  48% (19/39)\u001b[K\rremote: Counting objects:  51% (20/39)\u001b[K\rremote: Counting objects:  53% (21/39)\u001b[K\rremote: Counting objects:  56% (22/39)\u001b[K\rremote: Counting objects:  58% (23/39)\u001b[K\rremote: Counting objects:  61% (24/39)\u001b[K\rremote: Counting objects:  64% (25/39)\u001b[K\rremote: Counting objects:  66% (26/39)\u001b[K\rremote: Counting objects:  69% (27/39)\u001b[K\rremote: Counting objects:  71% (28/39)\u001b[K\rremote: Counting objects:  74% (29/39)\u001b[K\rremote: Counting objects:  76% (30/39)\u001b[K\rremote: Counting objects:  79% (31/39)\u001b[K\rremote: Counting objects:  82% (32/39)\u001b[K\rremote: Counting objects:  84% (33/39)\u001b[K\rremote: Counting objects:  87% (34/39)\u001b[K\rremote: Counting objects:  89% (35/39)\u001b[K\rremote: Counting objects:  92% (36/39)\u001b[K\rremote: Counting objects:  94% (37/39)\u001b[K\rremote: Counting objects:  97% (38/39)\u001b[K\rremote: Counting objects: 100% (39/39)\u001b[K\rremote: Counting objects: 100% (39/39), done.\u001b[K\n",
            "remote: Compressing objects: 100% (39/39), done.\u001b[K\n",
            "remote: Total 39 (delta 15), reused 0 (delta 0), pack-reused 0\u001b[K\n",
            "Unpacking objects: 100% (39/39), done.\n",
            "/content/gym/car_racer_gym\n"
          ],
          "name": "stdout"
        }
      ]
    },
    {
      "cell_type": "markdown",
      "metadata": {
        "id": "c61fq6FMVv0A"
      },
      "source": [
        "## Quick example with CarRacing"
      ]
    },
    {
      "cell_type": "code",
      "metadata": {
        "colab": {
          "base_uri": "https://localhost:8080/",
          "height": 0
        },
        "id": "-3RPjFbySdb6",
        "outputId": "a634603b-12f4-48bf-ff55-c42abe70b0e5"
      },
      "source": [
        "# from gym.envs.box2d import CarRacing\n",
        "env = gnwrapper.Animation(CarRacingDiscrete())\n",
        "env = CarRacingDiscrete()\n",
        "\n",
        "env.reset()\n",
        "env.render()\n",
        "im = env.render(\"state_pixels\")\n",
        "\n",
        "def state_image_preprocess(state_image):\n",
        "    # crop image\n",
        "    # state_image = state_image[0:84, :, :]\n",
        "    state_image = state_image.transpose((2,0,1))\n",
        "    # to torch\n",
        "    state_image = np.ascontiguousarray(state_image, dtype=np.float32) / 255\n",
        "    state_image = torch.from_numpy(state_image)\n",
        "    return state_image.unsqueeze(0).to(device)\n",
        "\n",
        "# plt.imshow(im)\n",
        "state_image_preprocess(im).shape\n",
        "plt.imshow(state_image_preprocess(im).cpu().squeeze(0).permute(1, 2, 0).numpy())"
      ],
      "execution_count": 5,
      "outputs": [
        {
          "output_type": "stream",
          "text": [
            "Track generation: 1121..1405 -> 284-tiles track\n"
          ],
          "name": "stdout"
        },
        {
          "output_type": "execute_result",
          "data": {
            "text/plain": [
              "<matplotlib.image.AxesImage at 0x7fb1ce321b00>"
            ]
          },
          "metadata": {
            "tags": []
          },
          "execution_count": 5
        },
        {
          "output_type": "display_data",
          "data": {
            "image/png": "[encoded data removed]",
            "text/plain": [
              "<Figure size 432x288 with 1 Axes>"
            ]
          },
          "metadata": {
            "tags": [],
            "needs_background": "light"
          }
        }
      ]
    },
    {
      "cell_type": "markdown",
      "metadata": {
        "id": "QN2SUkuJn7W1"
      },
      "source": [
        "## Custom Callback Class"
      ]
    },
    {
      "cell_type": "markdown",
      "metadata": {
        "id": "Q9jNon_ptVrX"
      },
      "source": [
        "### DQN callback"
      ]
    },
    {
      "cell_type": "code",
      "metadata": {
        "id": "S5ayf9GSMSUs"
      },
      "source": [
        "from stable_baselines3.common.callbacks import BaseCallback\n",
        "\n",
        "class DQNCustomCallback(BaseCallback):\n",
        "    \"\"\"\n",
        "    A custom callback that derives from ``BaseCallback``.\n",
        "\n",
        "    :param verbose: (int) Verbosity level 0: not output 1: info 2: debug\n",
        "    \"\"\"\n",
        "    def __init__(self, verbose=0):\n",
        "        super(DQNCustomCallback, self).__init__(verbose)\n",
        "        # Those variables will be accessible in the callback\n",
        "        # (they are defined in the base class)\n",
        "        # The RL model\n",
        "        # self.model = None  # type: BaseAlgorithm\n",
        "        # An alias for self.model.get_env(), the environment used for training\n",
        "        # self.training_env = None  # type: Union[gym.Env, VecEnv, None]\n",
        "        # Number of time the callback was called\n",
        "        # self.n_calls = 0  # type: int\n",
        "        # self.num_timesteps = 0  # type: int\n",
        "        # local and global variables\n",
        "        # self.locals = None  # type: Dict[str, Any]\n",
        "        # self.globals = None  # type: Dict[str, Any]\n",
        "        # The logger object, used to report things in the terminal\n",
        "        # self.logger = None  # stable_baselines3.common.logger\n",
        "        # # Sometimes, for event callback, it is useful\n",
        "        # # to have access to the parent object\n",
        "        # self.parent = None  # type: Optional[BaseCallback]\n",
        "        self.episodes = 0\n",
        "        self.total_episode_reward = 0\n",
        "\n",
        "    def _on_training_start(self) -> None:\n",
        "        \"\"\"\n",
        "        This method is called before the first rollout starts.\n",
        "        \"\"\"\n",
        "        pass\n",
        "\n",
        "    def _on_rollout_start(self) -> None:\n",
        "        \"\"\"\n",
        "        A rollout is the collection of environment interaction\n",
        "        using the current policy.\n",
        "        This event is triggered before collecting new samples.\n",
        "        \"\"\"\n",
        "        pass\n",
        "\n",
        "    def _on_step(self) -> bool:\n",
        "        # update commulative reward to log at the end of every episode\n",
        "        self.total_episode_reward += self.locals[\"reward\"]\n",
        "        # at the end of every episode\n",
        "        if self.locals[\"done\"][0]:\n",
        "\n",
        "            # log the reward value if its time to not log 2 times\n",
        "            if self.episodes % self.locals[\"log_interval\"] != 0: \n",
        "                wandb.log({\"reward_per_episode\": self.total_episode_reward})\n",
        "\n",
        "            # if log interval has passed\n",
        "            if self.episodes % self.locals[\"log_interval\"] == 0:\n",
        "                # log at wandb and print the last video\n",
        "                # Save your model and optimizer\n",
        "                self.model.save(MODEL_SAVE_NAME)\n",
        "                # Save as artifact for version control.\n",
        "                artifact = wandb.Artifact(MODEL_SAVE_NAME, type='model')\n",
        "                artifact.add_file(MODEL_SAVE_NAME+\".zip\")\n",
        "                wandb.log_artifact(artifact)\n",
        "                wandb.log({\"reward_per_episode\": self.total_episode_reward})\n",
        "\n",
        "\n",
        "                mp4list = glob.glob('video/*.mp4')\n",
        "                print(mp4list)\n",
        "                if len(mp4list) > 0:\n",
        "                    print(len(mp4list))\n",
        "                    mp4 = mp4list[-1]\n",
        "                    video = io.open(mp4, 'r+b').read()\n",
        "                    encoded = base64.b64encode(video)\n",
        "\n",
        "                    # log gameplay video in wandb\n",
        "                    wandb.log({\"gameplays\": wandb.Video(mp4, fps=4, format=\"gif\")})\n",
        "\n",
        "                    # display gameplay video\n",
        "                    ipythondisplay.clear_output(wait=True)\n",
        "                    ipythondisplay.display(HTML(data='''<video alt=\"\" autoplay \n",
        "                                loop controls style=\"height: 400px;\">\n",
        "                                <source src=\"data:video/mp4;base64,{0}\" type=\"video/mp4\" />\n",
        "                            </video>'''.format(encoded.decode('ascii'))))\n",
        "                    print(\"Episode \", self.episodes)\n",
        "            self.episodes += 1\n",
        "            self.total_episode_reward = 0\n",
        "\n",
        "        \n",
        "        return True\n",
        "\n",
        "    def _on_rollout_end(self) -> None:\n",
        "        \"\"\"\n",
        "        This event is triggered before updating the policy.\n",
        "        \"\"\"\n",
        "        pass\n",
        "\n",
        "    def _on_training_end(self) -> None:\n",
        "        \"\"\"\n",
        "        This event is triggered before exiting the `learn()` method.\n",
        "        \"\"\"\n",
        "        pass\n",
        "\n"
      ],
      "execution_count": 6,
      "outputs": []
    },
    {
      "cell_type": "markdown",
      "metadata": {
        "id": "nAibF3uqtY1c"
      },
      "source": [
        "### PPO callback"
      ]
    },
    {
      "cell_type": "code",
      "metadata": {
        "id": "-mL6SAtttdwK"
      },
      "source": [
        "class PPOCustomCallback(BaseCallback):\n",
        "    \"\"\"\n",
        "    A custom callback that derives from ``BaseCallback``.\n",
        "\n",
        "    :param verbose: (int) Verbosity level 0: not output 1: info 2: debug\n",
        "    \"\"\"\n",
        "    def __init__(self, verbose=0):\n",
        "        super(PPOCustomCallback, self).__init__(verbose)\n",
        "        # Those variables will be accessible in the callback\n",
        "        # (they are defined in the base class)\n",
        "        # The RL model\n",
        "        # self.model = None  # type: BaseAlgorithm\n",
        "        # An alias for self.model.get_env(), the environment used for training\n",
        "        # self.training_env = None  # type: Union[gym.Env, VecEnv, None]\n",
        "        # Number of time the callback was called\n",
        "        # self.n_calls = 0  # type: int\n",
        "        # self.num_timesteps = 0  # type: int\n",
        "        # local and global variables\n",
        "        # self.locals = None  # type: Dict[str, Any]\n",
        "        # self.globals = None  # type: Dict[str, Any]\n",
        "        # The logger object, used to report things in the terminal\n",
        "        # self.logger = None  # stable_baselines3.common.logger\n",
        "        # # Sometimes, for event callback, it is useful\n",
        "        # # to have access to the parent object\n",
        "        # self.parent = None  # type: Optional[BaseCallback]\n",
        "        self.episodes = 0\n",
        "        self.total_episode_reward = 0\n",
        "\n",
        "    def _on_training_start(self) -> None:\n",
        "        \"\"\"\n",
        "        This method is called before the first rollout starts.\n",
        "        \"\"\"\n",
        "        pass\n",
        "\n",
        "    def _on_rollout_start(self) -> None:\n",
        "        \"\"\"\n",
        "        A rollout is the collection of environment interaction\n",
        "        using the current policy.\n",
        "        This event is triggered before collecting new samples.\n",
        "        \"\"\"\n",
        "        pass\n",
        "\n",
        "    def _on_step(self) -> bool:\n",
        "        # update commulative reward to log at the end of every episode\n",
        "        self.total_episode_reward += np.mean(self.locals[\"rewards\"])\n",
        "        # at the end of every episode\n",
        "        # print(self.locals[\"dones\"])\n",
        "        if self.locals[\"dones\"].all():\n",
        "\n",
        "            # log the reward value if its time to not log 2 times\n",
        "            if self.episodes % self.locals[\"log_interval\"] != 0: \n",
        "                wandb.log({\"reward_per_episode\": self.total_episode_reward})\n",
        "\n",
        "            # if log interval has passed\n",
        "            if self.episodes % self.locals[\"log_interval\"] == 0:\n",
        "                # log at wandb and print the last video\n",
        "                # Save your model and optimizer\n",
        "                self.model.save(MODEL_SAVE_NAME)\n",
        "                # Save as artifact for version control.\n",
        "                artifact = wandb.Artifact(MODEL_SAVE_NAME, type='model')\n",
        "                artifact.add_file(MODEL_SAVE_NAME+\".zip\")\n",
        "                wandb.log_artifact(artifact)\n",
        "                wandb.log({\"reward_per_episode\": self.total_episode_reward})\n",
        "\n",
        "\n",
        "                mp4list = glob.glob('video/*.mp4')\n",
        "                print(mp4list)\n",
        "                if len(mp4list) > 0:\n",
        "                    print(len(mp4list))\n",
        "                    mp4 = mp4list[-1]\n",
        "                    video = io.open(mp4, 'r+b').read()\n",
        "                    encoded = base64.b64encode(video)\n",
        "\n",
        "                    # log gameplay video in wandb\n",
        "                    wandb.log({\"gameplays\": wandb.Video(mp4, fps=4, format=\"gif\")})\n",
        "\n",
        "                    # display gameplay video\n",
        "                    ipythondisplay.clear_output(wait=True)\n",
        "                    ipythondisplay.display(HTML(data='''<video alt=\"\" autoplay \n",
        "                                loop controls style=\"height: 400px;\">\n",
        "                                <source src=\"data:video/mp4;base64,{0}\" type=\"video/mp4\" />\n",
        "                            </video>'''.format(encoded.decode('ascii'))))\n",
        "                    print(\"Episode \", self.episodes)\n",
        "            self.episodes += 1\n",
        "            self.total_episode_reward = 0\n",
        "\n",
        "        \n",
        "        return True\n",
        "\n",
        "    def _on_rollout_end(self) -> None:\n",
        "        \"\"\"\n",
        "        This event is triggered before updating the policy.\n",
        "        \"\"\"\n",
        "        pass\n",
        "\n",
        "    def _on_training_end(self) -> None:\n",
        "        \"\"\"\n",
        "        This event is triggered before exiting the `learn()` method.\n",
        "        \"\"\"\n",
        "        pass"
      ],
      "execution_count": 7,
      "outputs": []
    },
    {
      "cell_type": "markdown",
      "metadata": {
        "id": "plxIQTXnJ5MH"
      },
      "source": [
        "### A2C callack"
      ]
    },
    {
      "cell_type": "code",
      "metadata": {
        "id": "KrwF9azGJ93u"
      },
      "source": [
        "class A2CCustomCallback(BaseCallback):\n",
        "    \"\"\"\n",
        "    A custom callback that derives from ``BaseCallback``.\n",
        "\n",
        "    :param verbose: (int) Verbosity level 0: not output 1: info 2: debug\n",
        "    \"\"\"\n",
        "    def __init__(self, verbose=0):\n",
        "        super(A2CCustomCallback, self).__init__(verbose)\n",
        "        # Those variables will be accessible in the callback\n",
        "        # (they are defined in the base class)\n",
        "        # The RL model\n",
        "        # self.model = None  # type: BaseAlgorithm\n",
        "        # An alias for self.model.get_env(), the environment used for training\n",
        "        # self.training_env = None  # type: Union[gym.Env, VecEnv, None]\n",
        "        # Number of time the callback was called\n",
        "        # self.n_calls = 0  # type: int\n",
        "        # self.num_timesteps = 0  # type: int\n",
        "        # local and global variables\n",
        "        # self.locals = None  # type: Dict[str, Any]\n",
        "        # self.globals = None  # type: Dict[str, Any]\n",
        "        # The logger object, used to report things in the terminal\n",
        "        # self.logger = None  # stable_baselines3.common.logger\n",
        "        # # Sometimes, for event callback, it is useful\n",
        "        # # to have access to the parent object\n",
        "        # self.parent = None  # type: Optional[BaseCallback]\n",
        "        self.episodes = 0\n",
        "        self.total_episode_reward = 0\n",
        "\n",
        "    def _on_training_start(self) -> None:\n",
        "        \"\"\"\n",
        "        This method is called before the first rollout starts.\n",
        "        \"\"\"\n",
        "        pass\n",
        "\n",
        "    def _on_rollout_start(self) -> None:\n",
        "        \"\"\"\n",
        "        A rollout is the collection of environment interaction\n",
        "        using the current policy.\n",
        "        This event is triggered before collecting new samples.\n",
        "        \"\"\"\n",
        "        pass\n",
        "\n",
        "    def _on_step(self) -> bool:\n",
        "        # update commulative reward to log at the end of every episode\n",
        "        self.total_episode_reward += np.mean(self.locals[\"rewards\"])\n",
        "        # at the end of every episode\n",
        "        # print(self.locals[\"dones\"])\n",
        "        if self.locals[\"dones\"].all():\n",
        "\n",
        "            # log the reward value if its time to not log 2 times\n",
        "            if self.episodes % self.locals[\"log_interval\"] != 0: \n",
        "                wandb.log({\"reward_per_episode\": self.total_episode_reward})\n",
        "\n",
        "            # if log interval has passed\n",
        "            if self.episodes % self.locals[\"log_interval\"] == 0:\n",
        "                # log at wandb and print the last video\n",
        "                # Save your model and optimizer\n",
        "                self.model.save(MODEL_SAVE_NAME)\n",
        "                # Save as artifact for version control.\n",
        "                artifact = wandb.Artifact(MODEL_SAVE_NAME, type='model')\n",
        "                artifact.add_file(MODEL_SAVE_NAME+\".zip\")\n",
        "                wandb.log_artifact(artifact)\n",
        "                wandb.log({\"reward_per_episode\": self.total_episode_reward})\n",
        "\n",
        "\n",
        "                mp4list = glob.glob('video/*.mp4')\n",
        "                print(mp4list)\n",
        "                if len(mp4list) > 0:\n",
        "                    print(len(mp4list))\n",
        "                    mp4 = mp4list[-1]\n",
        "                    video = io.open(mp4, 'r+b').read()\n",
        "                    encoded = base64.b64encode(video)\n",
        "\n",
        "                    # log gameplay video in wandb\n",
        "                    wandb.log({\"gameplays\": wandb.Video(mp4, fps=4, format=\"gif\")})\n",
        "\n",
        "                    # display gameplay video\n",
        "                    ipythondisplay.clear_output(wait=True)\n",
        "                    ipythondisplay.display(HTML(data='''<video alt=\"\" autoplay \n",
        "                                loop controls style=\"height: 400px;\">\n",
        "                                <source src=\"data:video/mp4;base64,{0}\" type=\"video/mp4\" />\n",
        "                            </video>'''.format(encoded.decode('ascii'))))\n",
        "                    print(\"Episode \", self.episodes)\n",
        "            self.episodes += 1\n",
        "            self.total_episode_reward = 0\n",
        "\n",
        "        \n",
        "        return True\n",
        "\n",
        "    def _on_rollout_end(self) -> None:\n",
        "        \"\"\"\n",
        "        This event is triggered before updating the policy.\n",
        "        \"\"\"\n",
        "        pass\n",
        "\n",
        "    def _on_training_end(self) -> None:\n",
        "        \"\"\"\n",
        "        This event is triggered before exiting the `learn()` method.\n",
        "        \"\"\"\n",
        "        pass"
      ],
      "execution_count": 8,
      "outputs": []
    },
    {
      "cell_type": "markdown",
      "metadata": {
        "id": "yJi0aHY7Abkn"
      },
      "source": [
        "## Training"
      ]
    },
    {
      "cell_type": "markdown",
      "metadata": {
        "id": "NgYsw2vnKsr1"
      },
      "source": [
        "### A2C"
      ]
    },
    {
      "cell_type": "code",
      "metadata": {
        "colab": {
          "base_uri": "https://localhost:8080/"
        },
        "id": "QBCB3JGCL6xh",
        "outputId": "cd3eccad-8d5f-4135-d316-14984f3c3175"
      },
      "source": [
        "!lscpu | grep -E '^Thread|^Core|^Socket|^CPU\\('"
      ],
      "execution_count": 9,
      "outputs": [
        {
          "output_type": "stream",
          "text": [
            "CPU(s):              2\n",
            "Thread(s) per core:  2\n",
            "Core(s) per socket:  1\n",
            "Socket(s):           1\n"
          ],
          "name": "stdout"
        }
      ]
    },
    {
      "cell_type": "code",
      "metadata": {
        "id": "VSDhKYVSKsGO"
      },
      "source": [
        "from stable_baselines3 import A2C\n",
        "from stable_baselines3.ppo import CnnPolicy\n",
        "from stable_baselines3.common.env_util import make_vec_env\n",
        "from stable_baselines3.common.vec_env import SubprocVecEnv\n",
        "from stable_baselines3.common.sb2_compat.rmsprop_tf_like import RMSpropTFLike\n",
        "\n",
        "\n",
        "\n",
        "NUM_OF_STEPS        = 10000\n",
        "NUM_OF_EPISODES     = 200\n",
        "LOG_INTERVAL        = 20\n",
        "BUFFER_SIZE         = 10000\n",
        "LEARNING_STARTS     = 1000\n",
        "WANDB_ID            = \"andreas1\"\n",
        "WNDB_NAME           = \"ANDREAS1\"\n",
        "LOAD_SAVED_MODEL    = False\n",
        "MODEL_SAVE_NAME     = \"andreas_a2c_1\"\n",
        "SAVED_MODEL_VERSION = \"latest\"\n",
        "\n",
        "# wnadb api key: 00d5bfbd342bb73d5aaf4f2833436d20457ef040\n",
        "os.environ[\"WANDB_ENTITY\"]  = \"andreas_giannoutsos\"\n",
        "os.environ[\"WANDB_PROJECT\"] = \"gym_car_racer\"\n",
        "os.environ[\"WANDB_RESUME\"]  = \"allow\"\n",
        "wandb.init(resume=WANDB_ID)\n",
        "wandb.run.name = WNDB_NAME\n",
        "\n",
        "class MonitorCustom(gym.wrappers.Monitor):\n",
        "    def __init__(self, env):\n",
        "        super(MonitorCustom, self).__init__(env, './video', force=True)\n",
        "\n",
        "env = make_vec_env(CarRacing, n_envs=1, wrapper_class=MonitorCustom, env_kwargs={\"total_episode_steps\":NUM_OF_STEPS})\n",
        "\n",
        "\n",
        "# Load model\n",
        "if LOAD_SAVED_MODEL:\n",
        "    try:\n",
        "        model_artifact = wandb.use_artifact(MODEL_SAVE_NAME+':'+SAVED_MODEL_VERSION, type='model')\n",
        "        artifact_dir = model_artifact.download()\n",
        "        A2Cmodel = A2C.load(artifact_dir+\"/\"+MODEL_SAVE_NAME, env=env)\n",
        "        print(\"LOAD SAVED PPΟ MODEL\")\n",
        "\n",
        "    except:\n",
        "        print(\"NO MODEL FOUND\")\n",
        "else:\n",
        "    if 'A2Cmodel' not in globals():\n",
        "        A2Cmodel = A2C(CnnPolicy, env, verbose=0, n_steps=5, use_sde=True, policy_kwargs={\"optimizer_class\":RMSpropTFLike})\n",
        "        print(\"INITIALIZE NEW A2C MODEL\")\n",
        "    else:\n",
        "        A2Cmodel = A2C.load(MODEL_SAVE_NAME, env=env)\n",
        "        print(\"CONTINUE A2C MODEL TRAINING\")\n",
        "\n",
        "\n",
        "# Train model\n",
        "A2Cmodel.learn(total_timesteps=NUM_OF_STEPS*NUM_OF_EPISODES, log_interval=LOG_INTERVAL, callback=A2CCustomCallback())\n",
        "A2Cmodel.save(MODEL_SAVE_NAME)"
      ],
      "execution_count": null,
      "outputs": []
    },
    {
      "cell_type": "code",
      "metadata": {
        "id": "P9qMZzgSM_m5"
      },
      "source": [
        "del A2Cmodel"
      ],
      "execution_count": null,
      "outputs": []
    },
    {
      "cell_type": "markdown",
      "metadata": {
        "id": "a7J6QN1x065c"
      },
      "source": [
        "### PPO"
      ]
    },
    {
      "cell_type": "code",
      "metadata": {
        "id": "lHa1SAwLTUzG"
      },
      "source": [
        "from stable_baselines3 import PPO\n",
        "from stable_baselines3.ppo import CnnPolicy\n",
        "from stable_baselines3.common.env_util import make_vec_env\n",
        "from stable_baselines3.common.vec_env import SubprocVecEnv\n",
        "\n",
        "\n",
        "\n",
        "NUM_OF_STEPS        = 1000\n",
        "NUM_OF_EPISODES     = 10\n",
        "LOG_INTERVAL        = 2\n",
        "BUFFER_SIZE         = 10000\n",
        "LEARNING_STARTS     = 1000\n",
        "WANDB_ID            = \"test_logging4\"\n",
        "WNDB_NAME           = \"test_logging4\"\n",
        "LOAD_SAVED_MODEL    = False\n",
        "MODEL_SAVE_NAME     = \"test_modell2\"\n",
        "SAVED_MODEL_VERSION = \"latest\"\n",
        "\n",
        "# wnadb api key: 00d5bfbd342bb73d5aaf4f2833436d20457ef040\n",
        "os.environ[\"WANDB_ENTITY\"]  = \"andreas_giannoutsos\"\n",
        "os.environ[\"WANDB_PROJECT\"] = \"gym_car_racer\"\n",
        "os.environ[\"WANDB_RESUME\"]  = \"allow\"\n",
        "wandb.init(resume=WANDB_ID)\n",
        "wandb.run.name = WNDB_NAME\n",
        "\n",
        "class MonitorCustom(gym.wrappers.Monitor):\n",
        "    def __init__(self, env):\n",
        "        super(MonitorCustom, self).__init__(env, './video', force=True)\n",
        "\n",
        "env = make_vec_env(CarRacing, n_envs=1, wrapper_class=MonitorCustom, env_kwargs={\"total_episode_steps\":NUM_OF_STEPS})\n",
        "\n",
        "\n",
        "# Load model\n",
        "if LOAD_SAVED_MODEL:\n",
        "    try:\n",
        "        model_artifact = wandb.use_artifact(MODEL_SAVE_NAME+':'+SAVED_MODEL_VERSION, type='model')\n",
        "        artifact_dir = model_artifact.download()\n",
        "        PPOmodel = PPO.load(artifact_dir+\"/\"+MODEL_SAVE_NAME, env=env)\n",
        "        print(\"LOAD SAVED PPΟ MODEL\")\n",
        "\n",
        "    except:\n",
        "        print(\"NO MODEL FOUND\")\n",
        "else:\n",
        "    if 'PPOmodel' not in globals():\n",
        "        PPOmodel = PPO(CnnPolicy, env, verbose=1)\n",
        "        print(\"INITIALIZE NEW PPO MODEL\")\n",
        "    else:\n",
        "        PPOmodel = PPO.load(MODEL_SAVE_NAME, env=env)\n",
        "        print(\"CONTINUE PPO MODEL TRAINING\")\n",
        "\n",
        "\n",
        "# Train model\n",
        "PPOmodel.learn(total_timesteps=NUM_OF_STEPS*NUM_OF_EPISODES, log_interval=LOG_INTERVAL, callback=PPOCustomCallback())\n",
        "PPOmodel.save(MODEL_SAVE_NAME)"
      ],
      "execution_count": null,
      "outputs": []
    },
    {
      "cell_type": "code",
      "metadata": {
        "colab": {
          "base_uri": "https://localhost:8080/"
        },
        "id": "BJ-2kdDB74Bm",
        "outputId": "30a7ac1b-8011-47aa-853e-1abe8327911d"
      },
      "source": [
        "a = np.array([True, False, True])\n",
        "if a.all():\n",
        "    print(\"aa\")\n",
        "!lscpu | grep -E '^Thread|^Core|^Socket|^CPU\\('"
      ],
      "execution_count": null,
      "outputs": [
        {
          "output_type": "stream",
          "text": [
            "CPU(s):              2\n",
            "Thread(s) per core:  2\n",
            "Core(s) per socket:  1\n",
            "Socket(s):           1\n"
          ],
          "name": "stdout"
        }
      ]
    },
    {
      "cell_type": "markdown",
      "metadata": {
        "id": "aSBBoq8W08vN"
      },
      "source": [
        "### DQN"
      ]
    },
    {
      "cell_type": "code",
      "metadata": {
        "id": "gVcpDbXiEPD7",
        "colab": {
          "base_uri": "https://localhost:8080/",
          "height": 690,
          "referenced_widgets": [
            "1c266855ed8a49178108446277aecf5a",
            "bdf687ebfc0949258b0a682d0e3de8e6",
            "cd6f083af4e7432d9d356892b44fe98e",
            "f99497fbdbdc41229cb2612bffaddf23",
            "2960414ce0b8414291fb3f00f8e0c6bd",
            "1593593ad0634831b372f7758880c812",
            "ec50d51fdf194a9a92d5dd2a134110a9",
            "3f03fc8c9e0a481694cc79660440c8ec"
          ]
        },
        "outputId": "2ec5c981-26a4-4183-9559-716e2fc1af01"
      },
      "source": [
        "from stable_baselines3 import DQN\n",
        "from stable_baselines3.dqn import CnnPolicy\n",
        "\n",
        "NUM_OF_STEPS        = 100\n",
        "NUM_OF_EPISODES     = 4\n",
        "LOG_INTERVAL        = 2\n",
        "BUFFER_SIZE         = 100000\n",
        "LEARNING_STARTS     = 1000\n",
        "WANDB_ID            = \"test_logging2\"\n",
        "WNDB_NAME           = \"test_logging2\"\n",
        "LOAD_SAVED_MODEL    = False\n",
        "MODEL_SAVE_NAME     = \"test_modell\"\n",
        "SAVED_MODEL_VERSION = \"latest\"\n",
        "\n",
        "# wnadb api key: 00d5bfbd342bb73d5aaf4f2833436d20457ef040\n",
        "os.environ[\"WANDB_ENTITY\"]  = \"andreas_giannoutsos\"\n",
        "os.environ[\"WANDB_PROJECT\"] = \"gym_car_racer\"\n",
        "os.environ[\"WANDB_RESUME\"]  = \"allow\"\n",
        "wandb.init(resume=WANDB_ID)\n",
        "wandb.run.name = WNDB_NAME\n",
        "\n",
        "# env = CarRacingDiscrete(NUM_OF_STEPS)\n",
        "env = gym.wrappers.Monitor(CarRacingDiscrete(NUM_OF_STEPS), './video', force=True)\n",
        "\n",
        "# Load model\n",
        "if LOAD_SAVED_MODEL:\n",
        "    try:\n",
        "        model_artifact = wandb.use_artifact(MODEL_SAVE_NAME+':'+SAVED_MODEL_VERSION, type='model')\n",
        "        artifact_dir = model_artifact.download()\n",
        "        DQNmodel = DQN.load(artifact_dir+\"/\"+MODEL_SAVE_NAME, env=env)\n",
        "        print(\"LOAD SAVED DQN MODEL\")\n",
        "    except:\n",
        "        print(\"NO MODEL FOUND\")\n",
        "else:    \n",
        "    if 'DQNmodel' not in globals():\n",
        "        DQNmodel = DQN(CnnPolicy, env, verbose=1, buffer_size=BUFFER_SIZE, learning_starts=LEARNING_STARTS)\n",
        "        print(\"INITIALIZE NEW DQN MODEL\")\n",
        "    else:\n",
        "        DQNmodel = DQN.load(MODEL_SAVE_NAME, env=env)\n",
        "        print(\"CONTINUE DQN MODEL TRAINING\")\n",
        "\n",
        "# Train model\n",
        "DQNmodel.learn(total_timesteps=NUM_OF_STEPS*NUM_OF_EPISODES, log_interval=LOG_INTERVAL, callback=DQNCustomCallback())\n",
        "DQNmodel.save(MODEL_SAVE_NAME)\n",
        "# del DQNmodel"
      ],
      "execution_count": null,
      "outputs": [
        {
          "output_type": "display_data",
          "data": {
            "text/html": [
              "Finishing last run (ID:test_logging2) before initializing another..."
            ],
            "text/plain": [
              "<IPython.core.display.HTML object>"
            ]
          },
          "metadata": {
            "tags": []
          }
        },
        {
          "output_type": "display_data",
          "data": {
            "text/html": [
              "<br/>Waiting for W&B process to finish, PID 4343<br/>Program ended successfully."
            ],
            "text/plain": [
              "<IPython.core.display.HTML object>"
            ]
          },
          "metadata": {
            "tags": []
          }
        },
        {
          "output_type": "display_data",
          "data": {
            "application/vnd.jupyter.widget-view+json": {
              "model_id": "1c266855ed8a49178108446277aecf5a",
              "version_minor": 0,
              "version_major": 2
            },
            "text/plain": [
              "VBox(children=(Label(value=' 33.72MB of 33.72MB uploaded (0.00MB deduped)\\r'), FloatProgress(value=1.0, max=1.…"
            ]
          },
          "metadata": {
            "tags": []
          }
        },
        {
          "output_type": "display_data",
          "data": {
            "text/html": [
              "Find user logs for this run at: <code>/content/car_racer_gym/wandb/run-20210222_115136-test_logging2/logs/debug.log</code>"
            ],
            "text/plain": [
              "<IPython.core.display.HTML object>"
            ]
          },
          "metadata": {
            "tags": []
          }
        },
        {
          "output_type": "display_data",
          "data": {
            "text/html": [
              "Find internal logs for this run at: <code>/content/car_racer_gym/wandb/run-20210222_115136-test_logging2/logs/debug-internal.log</code>"
            ],
            "text/plain": [
              "<IPython.core.display.HTML object>"
            ]
          },
          "metadata": {
            "tags": []
          }
        },
        {
          "output_type": "display_data",
          "data": {
            "text/html": [
              "<h3>Run summary:</h3><br/><style>\n",
              "    table.wandb td:nth-child(1) { padding: 0 10px; text-align: right }\n",
              "    </style><table class=\"wandb\">\n",
              "<tr><td>_step</td><td>600</td></tr><tr><td>_runtime</td><td>12731</td></tr><tr><td>_timestamp</td><td>1613994713</td></tr><tr><td>reward_per_episode</td><td>2.69842</td></tr></table>"
            ],
            "text/plain": [
              "<IPython.core.display.HTML object>"
            ]
          },
          "metadata": {
            "tags": []
          }
        },
        {
          "output_type": "display_data",
          "data": {
            "text/html": [
              "<h3>Run history:</h3><br/><style>\n",
              "    table.wandb td:nth-child(1) { padding: 0 10px; text-align: right }\n",
              "    </style><table class=\"wandb\">\n",
              "<tr><td>reward_per_episode</td><td>▆▁█▅</td></tr><tr><td>_runtime</td><td>▁▁▅▇▇█</td></tr><tr><td>_timestamp</td><td>▁▁▅▇▇█</td></tr><tr><td>_step</td><td>▁▂▄▅▇█</td></tr></table><br/>"
            ],
            "text/plain": [
              "<IPython.core.display.HTML object>"
            ]
          },
          "metadata": {
            "tags": []
          }
        },
        {
          "output_type": "display_data",
          "data": {
            "text/html": [
              "Synced 5 W&B file(s), 1 media file(s), 2 artifact file(s) and 0 other file(s)"
            ],
            "text/plain": [
              "<IPython.core.display.HTML object>"
            ]
          },
          "metadata": {
            "tags": []
          }
        },
        {
          "output_type": "display_data",
          "data": {
            "text/html": [
              "\n",
              "                    <br/>Synced <strong style=\"color:#cdcd00\">test_logging2</strong>: <a href=\"https://wandb.ai/andreas_giannoutsos/gym_car_racer/runs/test_logging2\" target=\"_blank\">https://wandb.ai/andreas_giannoutsos/gym_car_racer/runs/test_logging2</a><br/>\n",
              "                "
            ],
            "text/plain": [
              "<IPython.core.display.HTML object>"
            ]
          },
          "metadata": {
            "tags": []
          }
        },
        {
          "output_type": "display_data",
          "data": {
            "text/html": [
              "...Successfully finished last run (ID:test_logging2). Initializing new run:<br/><br/>"
            ],
            "text/plain": [
              "<IPython.core.display.HTML object>"
            ]
          },
          "metadata": {
            "tags": []
          }
        },
        {
          "output_type": "display_data",
          "data": {
            "text/html": [
              "\n",
              "                Tracking run with wandb version 0.10.19<br/>\n",
              "                Resuming run <strong style=\"color:#cdcd00\">test_logging2</strong> to <a href=\"https://wandb.ai\" target=\"_blank\">Weights & Biases</a> <a href=\"https://docs.wandb.com/integrations/jupyter.html\" target=\"_blank\">(Documentation)</a>.<br/>\n",
              "                Project page: <a href=\"https://wandb.ai/andreas_giannoutsos/gym_car_racer\" target=\"_blank\">https://wandb.ai/andreas_giannoutsos/gym_car_racer</a><br/>\n",
              "                Run page: <a href=\"https://wandb.ai/andreas_giannoutsos/gym_car_racer/runs/test_logging2\" target=\"_blank\">https://wandb.ai/andreas_giannoutsos/gym_car_racer/runs/test_logging2</a><br/>\n",
              "                Run data is saved locally in <code>/content/car_racer_gym/wandb/run-20210222_115157-test_logging2</code><br/><br/>\n",
              "            "
            ],
            "text/plain": [
              "<IPython.core.display.HTML object>"
            ]
          },
          "metadata": {
            "tags": []
          }
        },
        {
          "output_type": "stream",
          "text": [
            "/content/gym/gym/logger.py:30: UserWarning: \u001b[33mWARN: Trying to monitor an environment which has no 'spec' set. This usually means you did not create it via 'gym.make', and is recommended only for advanced users.\u001b[0m\n",
            "  warnings.warn(colorize('%s: %s'%('WARN', msg % args), 'yellow'))\n"
          ],
          "name": "stderr"
        },
        {
          "output_type": "stream",
          "text": [
            "Wrapping the env in a DummyVecEnv.\n",
            "Wrapping the env in a VecTransposeImage.\n"
          ],
          "name": "stdout"
        }
      ]
    },
    {
      "cell_type": "code",
      "metadata": {
        "id": "nGeRNpgjMWb4"
      },
      "source": [
        "DQNmodel.save_replay_buffer(\"bufferrrr22\")\n",
        "# del DQNmodel"
      ],
      "execution_count": null,
      "outputs": []
    }
  ]
}